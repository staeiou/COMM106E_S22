{
 "cells": [
  {
   "cell_type": "markdown",
   "id": "6efe8d0b",
   "metadata": {},
   "source": [
    "# Export to file"
   ]
  },
  {
   "cell_type": "code",
   "execution_count": null,
   "id": "a6fc7e90",
   "metadata": {},
   "outputs": [],
   "source": [
    "!pip install pandas openpyxl statsmodels seaborn"
   ]
  },
  {
   "cell_type": "markdown",
   "id": "510e39c3",
   "metadata": {},
   "source": [
    "# Import libraries -- a pink box with `FutureWarning` is normal and OK"
   ]
  },
  {
   "cell_type": "code",
   "execution_count": null,
   "id": "1b70a46b",
   "metadata": {},
   "outputs": [],
   "source": [
    "import pandas as pd\n",
    "import statsmodels.api as sm\n",
    "import seaborn as sns"
   ]
  },
  {
   "cell_type": "code",
   "execution_count": null,
   "id": "b492b0dd",
   "metadata": {},
   "outputs": [],
   "source": [
    "data = pd.read_excel(\"supermarket_marketing.xlsx\")"
   ]
  },
  {
   "cell_type": "code",
   "execution_count": null,
   "id": "5b5141b0",
   "metadata": {},
   "outputs": [],
   "source": [
    "data.sample(3).T"
   ]
  },
  {
   "cell_type": "code",
   "execution_count": null,
   "id": "a83144b5",
   "metadata": {},
   "outputs": [],
   "source": [
    "data.describe()"
   ]
  },
  {
   "cell_type": "markdown",
   "id": "a44f0a2e",
   "metadata": {},
   "source": [
    "# Creating a new variable based on existing variables"
   ]
  },
  {
   "cell_type": "code",
   "execution_count": null,
   "id": "803a3a1d",
   "metadata": {},
   "outputs": [],
   "source": [
    "data['kids_teens_at_home'] = data['kids_at_home'] + data['teens_at_home']\n",
    "data['kids_teens_at_home'].value_counts()"
   ]
  },
  {
   "cell_type": "markdown",
   "id": "29bda749",
   "metadata": {},
   "source": [
    "# Drawing a scatterplot showing two (or three) variables"
   ]
  },
  {
   "cell_type": "code",
   "execution_count": null,
   "id": "a79b000c",
   "metadata": {},
   "outputs": [],
   "source": [
    "sns.scatterplot(data=data, x='sweets', y='kids_teens_at_home', alpha=.05)"
   ]
  },
  {
   "cell_type": "markdown",
   "id": "f8507339",
   "metadata": {},
   "source": [
    "# Pivot tables"
   ]
  },
  {
   "cell_type": "code",
   "execution_count": null,
   "id": "50311b0a",
   "metadata": {},
   "outputs": [],
   "source": [
    "data.pivot(columns='kids_teens_at_home', values='sweets').mean()"
   ]
  },
  {
   "cell_type": "markdown",
   "id": "a52093ea",
   "metadata": {},
   "source": [
    "# Regressions"
   ]
  },
  {
   "cell_type": "code",
   "execution_count": null,
   "id": "1cb8db03",
   "metadata": {},
   "outputs": [],
   "source": [
    "input_columns = ['wine','fruit', 'meat', 'fish','sweets',\n",
    "                 'coupons_used','num_web_orders', \n",
    "                 'num_phone_orders', 'num_store_orders',\n",
    "                 'web_visits_monthly', 'days_since_purchase']"
   ]
  },
  {
   "cell_type": "code",
   "execution_count": null,
   "id": "237654c1",
   "metadata": {},
   "outputs": [],
   "source": [
    "data[input_columns]"
   ]
  },
  {
   "cell_type": "code",
   "execution_count": null,
   "id": "5bc3a59f",
   "metadata": {},
   "outputs": [],
   "source": [
    "data = data.dropna()\n",
    "\n",
    "output = data['kids_teens_at_home']\n",
    "inputs = data[input_columns]"
   ]
  },
  {
   "cell_type": "code",
   "execution_count": null,
   "id": "68d0d400",
   "metadata": {},
   "outputs": [],
   "source": [
    "model = sm.OLS(output, inputs).fit()"
   ]
  },
  {
   "cell_type": "code",
   "execution_count": null,
   "id": "415c4fbe",
   "metadata": {},
   "outputs": [],
   "source": [
    "model.summary()"
   ]
  },
  {
   "cell_type": "code",
   "execution_count": null,
   "id": "40f59120",
   "metadata": {},
   "outputs": [],
   "source": [
    "predictions = model.predict(inputs)"
   ]
  },
  {
   "cell_type": "code",
   "execution_count": null,
   "id": "897a23e7",
   "metadata": {},
   "outputs": [],
   "source": [
    "predictions.hist()"
   ]
  },
  {
   "cell_type": "code",
   "execution_count": null,
   "id": "333b012f",
   "metadata": {},
   "outputs": [],
   "source": []
  }
 ],
 "metadata": {
  "kernelspec": {
   "display_name": "Python 3 (clean)",
   "language": "python",
   "name": "python3_clean"
  },
  "language_info": {
   "codemirror_mode": {
    "name": "ipython",
    "version": 3
   },
   "file_extension": ".py",
   "mimetype": "text/x-python",
   "name": "python",
   "nbconvert_exporter": "python",
   "pygments_lexer": "ipython3",
   "version": "3.9.5"
  }
 },
 "nbformat": 4,
 "nbformat_minor": 5
}
