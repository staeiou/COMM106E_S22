{
 "cells": [
  {
   "cell_type": "code",
   "execution_count": null,
   "id": "910e7b8a",
   "metadata": {},
   "outputs": [],
   "source": [
    "!pip install pandas openpyxl"
   ]
  },
  {
   "cell_type": "markdown",
   "id": "08ac44ee",
   "metadata": {},
   "source": [
    "# Merging or joining two datasets with a unique identifier"
   ]
  },
  {
   "cell_type": "code",
   "execution_count": null,
   "id": "3efb6e98",
   "metadata": {},
   "outputs": [],
   "source": [
    "import pandas as pd"
   ]
  },
  {
   "cell_type": "code",
   "execution_count": null,
   "id": "264da6bd",
   "metadata": {},
   "outputs": [],
   "source": [
    "data1 = pd.read_excel(\"supermarket_marketing.xlsx\")\n",
    "data2 = pd.read_excel(\"drugstore_pregnancy.xlsx\")"
   ]
  },
  {
   "cell_type": "code",
   "execution_count": null,
   "id": "7e170c5d",
   "metadata": {},
   "outputs": [],
   "source": [
    "data1.describe()"
   ]
  },
  {
   "cell_type": "code",
   "execution_count": null,
   "id": "b8dc7bc0",
   "metadata": {},
   "outputs": [],
   "source": [
    "data2.describe()"
   ]
  },
  {
   "cell_type": "code",
   "execution_count": null,
   "id": "b82bb642",
   "metadata": {},
   "outputs": [],
   "source": [
    "data1.sample(3).T"
   ]
  },
  {
   "cell_type": "code",
   "execution_count": null,
   "id": "5a7f558f",
   "metadata": {},
   "outputs": [],
   "source": [
    "data2.sample(3).T"
   ]
  },
  {
   "attachments": {},
   "cell_type": "markdown",
   "id": "8c2b640a",
   "metadata": {},
   "source": [
    "# Merging\n",
    "\n",
    "<img src = \"https://cdn.mindmajix.com/blog/images/db-01_2119.png\" width=50%>\n",
    "\n",
    "## Inner merge: only keep if the unique identifier is found in both datasets"
   ]
  },
  {
   "cell_type": "code",
   "execution_count": null,
   "id": "cbee997c",
   "metadata": {},
   "outputs": [],
   "source": [
    "data_merged_inner = pd.merge(data1, data2, on='phone', how='inner')"
   ]
  },
  {
   "cell_type": "code",
   "execution_count": null,
   "id": "1bd6b055",
   "metadata": {},
   "outputs": [],
   "source": [
    "data_merged_inner"
   ]
  },
  {
   "cell_type": "code",
   "execution_count": null,
   "id": "641d6772",
   "metadata": {},
   "outputs": [],
   "source": [
    "data_merged_inner.sample(3).T"
   ]
  },
  {
   "cell_type": "markdown",
   "id": "b5aa3f38",
   "metadata": {},
   "source": [
    "## Left merge: show the entire first/left dataset; if unique identifier matches in second/right dataset, add variables for the matching row; if not, leave blank/NaN"
   ]
  },
  {
   "cell_type": "code",
   "execution_count": null,
   "id": "26d51f5c",
   "metadata": {},
   "outputs": [],
   "source": [
    "data_merged_left = pd.merge(data1, data2, on='phone', how='left')"
   ]
  },
  {
   "cell_type": "code",
   "execution_count": null,
   "id": "b9ddef28",
   "metadata": {},
   "outputs": [],
   "source": [
    "data_merged_left"
   ]
  },
  {
   "cell_type": "code",
   "execution_count": null,
   "id": "5a2450df",
   "metadata": {},
   "outputs": [],
   "source": [
    "data_merged_left.sample(5).T"
   ]
  },
  {
   "cell_type": "markdown",
   "id": "208f7720",
   "metadata": {},
   "source": [
    "# Export to file"
   ]
  },
  {
   "cell_type": "code",
   "execution_count": null,
   "id": "84f89962",
   "metadata": {},
   "outputs": [],
   "source": [
    "data_merged_inner.to_excel(\"supermarket_drugstore_inner_merge.xlsx\")\n",
    "data_merged_left.to_excel(\"supermarket_drugstore_left_merge.xlsx\")"
   ]
  },
  {
   "cell_type": "code",
   "execution_count": null,
   "id": "333b012f",
   "metadata": {},
   "outputs": [],
   "source": []
  }
 ],
 "metadata": {
  "kernelspec": {
   "display_name": "Python 3 (clean)",
   "language": "python",
   "name": "python3_clean"
  },
  "language_info": {
   "codemirror_mode": {
    "name": "ipython",
    "version": 3
   },
   "file_extension": ".py",
   "mimetype": "text/x-python",
   "name": "python",
   "nbconvert_exporter": "python",
   "pygments_lexer": "ipython3",
   "version": "3.9.5"
  }
 },
 "nbformat": 4,
 "nbformat_minor": 5
}
