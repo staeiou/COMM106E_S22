{
 "cells": [
  {
   "cell_type": "markdown",
   "id": "77ad5d5b",
   "metadata": {},
   "source": [
    "# Lab 1: Hello, World!"
   ]
  },
  {
   "cell_type": "code",
   "execution_count": 140,
   "id": "284a4373",
   "metadata": {},
   "outputs": [
    {
     "name": "stdout",
     "output_type": "stream",
     "text": [
      "Defaulting to user installation because normal site-packages is not writeable\n",
      "Requirement already satisfied: pronouncing in /home/sgeiger/.local/lib/python3.9/site-packages (0.2.0)\n",
      "Requirement already satisfied: cmudict>=0.4.0 in /home/sgeiger/.local/lib/python3.9/site-packages (from pronouncing) (1.0.2)\n"
     ]
    }
   ],
   "source": [
    "!pip install pronouncing"
   ]
  },
  {
   "cell_type": "code",
   "execution_count": 141,
   "id": "a542f0ad",
   "metadata": {},
   "outputs": [
    {
     "name": "stdout",
     "output_type": "stream",
     "text": [
      "Imported 'pronouncing' library successfully as 'pro'\n"
     ]
    }
   ],
   "source": [
    "try: \n",
    "    import pronouncing as pro\n",
    "    print(\"Imported 'pronouncing' library successfully as 'pro'\")\n",
    "    \n",
    "except:\n",
    "    print(\"You need to run the '!pip install pronouncing' command at the top, then go to the Kernel menu and click 'Restart and clear output'\")"
   ]
  },
  {
   "cell_type": "code",
   "execution_count": 142,
   "id": "17daf8a5",
   "metadata": {},
   "outputs": [],
   "source": [
    "import random"
   ]
  },
  {
   "cell_type": "markdown",
   "id": "3285e662",
   "metadata": {},
   "source": [
    "# Hello, World!"
   ]
  },
  {
   "cell_type": "code",
   "execution_count": 148,
   "id": "1e16e9ae",
   "metadata": {},
   "outputs": [
    {
     "name": "stdout",
     "output_type": "stream",
     "text": [
      "Hello World!\n"
     ]
    }
   ],
   "source": [
    "print(\"Hello World!\")"
   ]
  },
  {
   "cell_type": "markdown",
   "id": "577fd98f",
   "metadata": {},
   "source": [
    "# Your name"
   ]
  },
  {
   "cell_type": "code",
   "execution_count": 165,
   "id": "5201d9b9",
   "metadata": {},
   "outputs": [],
   "source": [
    "my_name = \"Stu\""
   ]
  },
  {
   "cell_type": "code",
   "execution_count": 166,
   "id": "e9d252e4",
   "metadata": {},
   "outputs": [
    {
     "name": "stdout",
     "output_type": "stream",
     "text": [
      "Hello Stu!\n"
     ]
    }
   ],
   "source": [
    "if ' ' in my_name:\n",
    "    print(\"Please only use one name without any spaces\")\n",
    "    \n",
    "else:\n",
    "    personal_hello = \"Hello \" + my_name + \"!\"\n",
    "    print(personal_hello)"
   ]
  },
  {
   "cell_type": "markdown",
   "id": "ce9dd203",
   "metadata": {},
   "source": [
    "# Your name in [ARPABET](https://en.wikipedia.org/wiki/ARPABET#Symbols) notation"
   ]
  },
  {
   "cell_type": "code",
   "execution_count": 167,
   "id": "66c80976",
   "metadata": {},
   "outputs": [
    {
     "name": "stdout",
     "output_type": "stream",
     "text": [
      "['S T UW1']\n"
     ]
    }
   ],
   "source": [
    "name_in_phonemes = pro.phones_for_word(my_name)\n",
    "print(name_in_phonemes)"
   ]
  },
  {
   "cell_type": "code",
   "execution_count": 168,
   "id": "0f62c214",
   "metadata": {},
   "outputs": [
    {
     "name": "stdout",
     "output_type": "stream",
     "text": [
      "I think I say your name like: S T UW1\n"
     ]
    }
   ],
   "source": [
    "if len(name_in_phonemes) == 0:\n",
    "    print(\"Sorry, an phonetic representation of your name was not found in the Carnegie-Mellon University Pronouncing Dictionary.\\n\")\n",
    "    print(\"Please choose another name or an alternate spelling, then run the code again from the beginning.\\n\")\n",
    "    print(\"Databases are created by people and have biases in how they represent the world.\\n\")\n",
    "\n",
    "elif len(name_in_phonemes) == 1:\n",
    "    print(\"I think I say your name like: \" + name_in_phonemes[0])\n",
    "    \n",
    "else:\n",
    "    print(\"I think your name can be prounounced in a few different ways, but I'll use the most common pronounciation:\")\n",
    "    print(name_in_phonemes[0])\n",
    "    "
   ]
  },
  {
   "cell_type": "markdown",
   "id": "5e1246da",
   "metadata": {},
   "source": [
    "# The rhyming name song"
   ]
  },
  {
   "cell_type": "code",
   "execution_count": 169,
   "id": "ea438e90",
   "metadata": {},
   "outputs": [],
   "source": [
    "name_rhymes = pro.rhymes(my_name)"
   ]
  },
  {
   "cell_type": "code",
   "execution_count": 170,
   "id": "5d9afddf",
   "metadata": {},
   "outputs": [
    {
     "name": "stdout",
     "output_type": "stream",
     "text": [
      "['abou', 'abreu', 'accrue', 'achoo', 'adieu', 'ado', 'aeroperu', 'anew', 'anew', 'askew', 'babu', 'badu', 'baku', 'ballou', 'ballyhoo', 'bamboo', 'beaucoup', 'bellew', 'belyeu', 'benhamou', 'beu', 'bleu', 'blew', 'blue', 'boo', 'breaux', 'brew', 'brue', 'byu', 'canoe', 'carilou', 'cebu', 'chaloux', 'champoux', 'chengdu', 'chew', 'chiu', 'choo', 'chou', 'chu', 'clue', 'cmu', 'construe', 'coo', 'corbu', 'cou', 'coup', 'coups', 'coutu', 'cpu', 'crew', 'crewe', 'cue', 'deblois', 'debut', 'decou', 'depardieu', 'depew', 'depue', 'deux', 'dew', 'dfw', 'dfw', 'do', 'doo', 'douwe', 'drew', 'drive-thru', 'dru', 'du', 'due', 'due', 'edu', 'egnew', 'ensue', 'eschew', 'ewe', 'fauroux', 'few', 'fitzhugh', 'flew', 'flu', 'flue', 'fondue', 'foo', 'fourtou', 'frew', 'frueh', 'fu', 'geroux', 'gignoux', 'giroux', 'glew', 'glue', 'gnu', 'goo', 'graue', 'grew', 'grewe', 'grue', 'gu', 'gue', 'heroux', 'herscu', 'hew', 'hewe', 'hitherto', 'hoo', 'hou', 'houx', 'hsu', 'hu', 'hue', 'hugh', 'hugh', 'hullabaloo', 'igou', 'imbue', 'into', 'iou', 'iq', 'isu', 'jammu', 'jamu', 'jew', 'joo', 'ju', 'jue', 'jus', 'kalamazoo', 'kangaroo', 'karatsu', 'katmandu', 'kazoo', 'ketou', 'kew', 'khoo', 'khuu', 'klu', 'klu', 'knew', 'knew', 'komatsu', 'koo', 'ku', 'kwangju', 'kwangju', 'kyu', 'laroux', 'larue', 'ledoux', 'lemieux', 'leroux', 'leu', 'lew', 'lhommedieu', 'lieu', 'lieu', 'liou', 'liu', 'llanview', 'long-overdue', 'loo', 'lou', 'louw', 'loux', 'lu', 'lue', 'mailloux', 'marcou', 'marcoux', 'marrou', 'mccue', 'mcgrew', 'mcgue', 'mchugh', 'mcknew', 'mcnew', 'meiyuh', 'mew', 'misconstrue', 'moo', 'moue', 'mu', 'neveu', 'new', 'new', 'nu', 'ooh', 'oooh', 'ou', 'outdo', 'outgrew', 'overdo', 'overdue', 'overthrew', 'pas-de-deux', 'perdue', 'peru', 'peugh', 'pew', 'phew', 'phu', 'plew', 'plue', 'poo', 'pooh', 'pou', 'prew', 'pru', 'prue', 'prugh', 'pshew', 'pu', 'pugh', 'purdue', 'pursue', 'q', 'q.', 'qu', 'que', 'queue', 'ragu', 'ramu', 'raoux', 'ratu', 'redo', 'renew', 'reto', 'review', 'revue', 'rew', 'rhew', 'rhue', 'richoux', 'rioux', 'roux', 'ru', 'ru', 'rue', 'schewe', 'schoo', 'schou', 'schue', 'schuh', 'screw', 'seydoux', 'shampoo', 'shamu', 'shew', 'shiu', 'shoe', 'shoo', 'shu', 'shue', 'siew', 'sioux', 'skew', 'slew', 'soo', 'spew', 'stew', 'strew', 'stu', 'stuewe', 'su', 'subdue', 'sue', 'suu', 'suu', 'taboo', 'tartu', 'tattoo', 'tatu', 'tew', 'tew', 'thankyou', 'theroux', 'thew', 'threw', 'through', 'thru', 'thuy', 'tien-fu', 'tieu', 'timbuktu', 'to', 'to-do', 'tobu', 'todo', 'too', 'toyoo', 'treu', 'trew', 'trieu', 'troyu', 'true', 'true-view', 'tsu', 'tu', 'tue', 'two', 'u', 'u.', 'undo', 'undue', 'unglue', 'untrue', 'urdu', 'uwe', 'vanlue', 'view', 'vous', 'vu', 'vue', 'wahoo', 'wahoo', 'wenzhou', 'whay-yu', 'whay-yu', 'whew', 'whew', 'whew', 'who', 'whoo', 'withdrew', 'withdrew', 'woo', 'wu', 'xu', 'xue', 'yabbadabbadoo', 'yew', 'yoo', 'you', 'yu', 'yue', 'zanu', 'zhambu', 'zhou', 'zhu', 'zoo', 'zue', 'zungu']\n"
     ]
    }
   ],
   "source": [
    "print(name_rhymes)"
   ]
  },
  {
   "cell_type": "code",
   "execution_count": 171,
   "id": "4b27820b",
   "metadata": {},
   "outputs": [],
   "source": [
    "name_rhyme0 = random.choice(name_rhymes)\n",
    "name_rhyme1 = random.choice(name_rhymes)\n",
    "name_rhyme2 = random.choice(name_rhymes)"
   ]
  },
  {
   "cell_type": "code",
   "execution_count": 172,
   "id": "4f7ed84a",
   "metadata": {},
   "outputs": [
    {
     "name": "stdout",
     "output_type": "stream",
     "text": [
      "queue spew louw\n"
     ]
    }
   ],
   "source": [
    "print(name_rhyme0, name_rhyme1, name_rhyme2)"
   ]
  },
  {
   "cell_type": "markdown",
   "id": "40bac02b",
   "metadata": {},
   "source": [
    "## Putting the name song together"
   ]
  },
  {
   "cell_type": "code",
   "execution_count": 173,
   "id": "27b6bef5",
   "metadata": {},
   "outputs": [],
   "source": [
    "name_song = my_name + \", \" + my_name + \", bo-\" + name_rhyme0 + \"\\n\""
   ]
  },
  {
   "cell_type": "code",
   "execution_count": 174,
   "id": "ec6df3d2",
   "metadata": {},
   "outputs": [
    {
     "name": "stdout",
     "output_type": "stream",
     "text": [
      "Stu, Stu, bo-queue\n",
      "\n"
     ]
    }
   ],
   "source": [
    "print(name_song)"
   ]
  },
  {
   "cell_type": "code",
   "execution_count": 175,
   "id": "7502e9bf",
   "metadata": {},
   "outputs": [],
   "source": [
    "name_song = name_song + \"Banana-fanna fo-\" + name_rhyme1 + \"\\n\""
   ]
  },
  {
   "cell_type": "code",
   "execution_count": 176,
   "id": "ae5ee0a9",
   "metadata": {},
   "outputs": [
    {
     "name": "stdout",
     "output_type": "stream",
     "text": [
      "Stu, Stu, bo-queue\n",
      "Banana-fanna fo-spew\n",
      "\n"
     ]
    }
   ],
   "source": [
    "print(name_song)"
   ]
  },
  {
   "cell_type": "code",
   "execution_count": 177,
   "id": "19af3b44",
   "metadata": {},
   "outputs": [],
   "source": [
    "name_song = name_song + \"Fee fi mo-\" + name_rhyme2 + \"\\n\" + my_name + \"!\""
   ]
  },
  {
   "cell_type": "code",
   "execution_count": 178,
   "id": "b9ee8341",
   "metadata": {},
   "outputs": [
    {
     "name": "stdout",
     "output_type": "stream",
     "text": [
      "Stu, Stu, bo-queue\n",
      "Banana-fanna fo-spew\n",
      "Fee fi mo-louw\n",
      "Stu!\n"
     ]
    }
   ],
   "source": [
    "print(name_song)"
   ]
  },
  {
   "cell_type": "code",
   "execution_count": null,
   "id": "d6a4e2c6",
   "metadata": {},
   "outputs": [],
   "source": []
  },
  {
   "cell_type": "markdown",
   "id": "93743b59",
   "metadata": {},
   "source": [
    "# Before you submit, go to the Menu Kernel -> Restart and Run All to make sure it runs without any errors"
   ]
  },
  {
   "cell_type": "code",
   "execution_count": null,
   "id": "0a567d35",
   "metadata": {},
   "outputs": [],
   "source": []
  }
 ],
 "metadata": {
  "kernelspec": {
   "display_name": "Python 3 (clean)",
   "language": "python",
   "name": "python3_clean"
  },
  "language_info": {
   "codemirror_mode": {
    "name": "ipython",
    "version": 3
   },
   "file_extension": ".py",
   "mimetype": "text/x-python",
   "name": "python",
   "nbconvert_exporter": "python",
   "pygments_lexer": "ipython3",
   "version": "3.9.5"
  }
 },
 "nbformat": 4,
 "nbformat_minor": 5
}
