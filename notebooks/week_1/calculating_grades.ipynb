{
 "cells": [
  {
   "cell_type": "markdown",
   "id": "3b56008c",
   "metadata": {},
   "source": [
    "# Calculating our grades\n",
    "\n",
    "You can have variables that store data. Percentages are stored as a number between 0 and 1, where 0 is 0%, .5 is 50%, and 1 is 100%."
   ]
  },
  {
   "cell_type": "code",
   "execution_count": 1,
   "id": "92a57b00",
   "metadata": {},
   "outputs": [],
   "source": [
    "participation_grade = 100\n",
    "assignments_grade = 80\n",
    "final_grade = 90\n",
    "\n",
    "participation_weight = .2 \n",
    "assignments_weight = .3\n",
    "final_weight = .5"
   ]
  },
  {
   "cell_type": "code",
   "execution_count": 2,
   "id": "f644ce3a",
   "metadata": {},
   "outputs": [
    {
     "data": {
      "text/plain": [
       "89.0"
      ]
     },
     "execution_count": 2,
     "metadata": {},
     "output_type": "execute_result"
    }
   ],
   "source": [
    "(participation_grade * participation_weight) + (assignments_grade * assignments_weight) + (final_grade * final_weight)"
   ]
  },
  {
   "cell_type": "markdown",
   "id": "4b3dba20",
   "metadata": {},
   "source": [
    "You can also break lines up to make it more readable using `\\`:"
   ]
  },
  {
   "cell_type": "code",
   "execution_count": 3,
   "id": "09da0059",
   "metadata": {},
   "outputs": [
    {
     "data": {
      "text/plain": [
       "89.0"
      ]
     },
     "execution_count": 3,
     "metadata": {},
     "output_type": "execute_result"
    }
   ],
   "source": [
    "(participation_grade * participation_weight) + \\\n",
    "(assignments_grade * assignments_weight) + \\\n",
    "(final_grade * final_weight)"
   ]
  },
  {
   "cell_type": "markdown",
   "id": "003d395a",
   "metadata": {},
   "source": [
    "So if you had a class where your lowest two assignments are dropped, you would call .pop() twice:"
   ]
  },
  {
   "cell_type": "code",
   "execution_count": 4,
   "id": "648d8d3e",
   "metadata": {},
   "outputs": [
    {
     "data": {
      "text/plain": [
       "[100, 100, 95, 94, 90]"
      ]
     },
     "execution_count": 4,
     "metadata": {},
     "output_type": "execute_result"
    }
   ],
   "source": [
    "all_assignments = [0,100,94,50,100,90,95]\n",
    "all_assignments.sort(reverse=True)\n",
    "all_assignments.pop()\n",
    "all_assignments.pop()\n",
    "all_assignments"
   ]
  },
  {
   "cell_type": "markdown",
   "id": "f1119759",
   "metadata": {},
   "source": [
    "## Custom functions\n",
    "\n",
    "You can define your own functions:"
   ]
  },
  {
   "cell_type": "code",
   "execution_count": 5,
   "id": "28f89ae2",
   "metadata": {},
   "outputs": [],
   "source": [
    "def calc_letter_grade(grade):\n",
    "    if grade > 90:\n",
    "        return 'A'\n",
    "    \n",
    "    elif grade > 80:    #else if \n",
    "        return 'B'\n",
    "    \n",
    "    elif grade > 70:\n",
    "        return 'C'\n",
    "    \n",
    "    elif grade > 60:\n",
    "        return 'D'\n",
    "    \n",
    "    elif grade >= 0:\n",
    "        return 'F'\n",
    "    \n",
    "    else:\n",
    "        return 'ERROR'"
   ]
  },
  {
   "cell_type": "code",
   "execution_count": 6,
   "id": "4fe5a92b",
   "metadata": {},
   "outputs": [
    {
     "data": {
      "text/plain": [
       "'B'"
      ]
     },
     "execution_count": 6,
     "metadata": {},
     "output_type": "execute_result"
    }
   ],
   "source": [
    "calc_letter_grade(90)"
   ]
  },
  {
   "cell_type": "code",
   "execution_count": 7,
   "id": "8a80c378",
   "metadata": {},
   "outputs": [
    {
     "data": {
      "text/plain": [
       "'F'"
      ]
     },
     "execution_count": 7,
     "metadata": {},
     "output_type": "execute_result"
    }
   ],
   "source": [
    "calc_letter_grade(0)"
   ]
  },
  {
   "cell_type": "code",
   "execution_count": 8,
   "id": "4df193ff",
   "metadata": {},
   "outputs": [
    {
     "ename": "TypeError",
     "evalue": "'>' not supported between instances of 'str' and 'int'",
     "output_type": "error",
     "traceback": [
      "\u001b[0;31m---------------------------------------------------------------------------\u001b[0m",
      "\u001b[0;31mTypeError\u001b[0m                                 Traceback (most recent call last)",
      "\u001b[0;32m/tmp/ipykernel_3000/2892990219.py\u001b[0m in \u001b[0;36m<module>\u001b[0;34m\u001b[0m\n\u001b[0;32m----> 1\u001b[0;31m \u001b[0mcalc_letter_grade\u001b[0m\u001b[0;34m(\u001b[0m\u001b[0;34m\"one hundred\"\u001b[0m\u001b[0;34m)\u001b[0m\u001b[0;34m\u001b[0m\u001b[0;34m\u001b[0m\u001b[0m\n\u001b[0m",
      "\u001b[0;32m/tmp/ipykernel_3000/605390678.py\u001b[0m in \u001b[0;36mcalc_letter_grade\u001b[0;34m(grade)\u001b[0m\n\u001b[1;32m      1\u001b[0m \u001b[0;32mdef\u001b[0m \u001b[0mcalc_letter_grade\u001b[0m\u001b[0;34m(\u001b[0m\u001b[0mgrade\u001b[0m\u001b[0;34m)\u001b[0m\u001b[0;34m:\u001b[0m\u001b[0;34m\u001b[0m\u001b[0;34m\u001b[0m\u001b[0m\n\u001b[0;32m----> 2\u001b[0;31m     \u001b[0;32mif\u001b[0m \u001b[0mgrade\u001b[0m \u001b[0;34m>\u001b[0m \u001b[0;36m90\u001b[0m\u001b[0;34m:\u001b[0m\u001b[0;34m\u001b[0m\u001b[0;34m\u001b[0m\u001b[0m\n\u001b[0m\u001b[1;32m      3\u001b[0m         \u001b[0;32mreturn\u001b[0m \u001b[0;34m'A'\u001b[0m\u001b[0;34m\u001b[0m\u001b[0;34m\u001b[0m\u001b[0m\n\u001b[1;32m      4\u001b[0m \u001b[0;34m\u001b[0m\u001b[0m\n\u001b[1;32m      5\u001b[0m     \u001b[0;32melif\u001b[0m \u001b[0mgrade\u001b[0m \u001b[0;34m>\u001b[0m \u001b[0;36m80\u001b[0m\u001b[0;34m:\u001b[0m    \u001b[0;31m#else if\u001b[0m\u001b[0;34m\u001b[0m\u001b[0;34m\u001b[0m\u001b[0m\n",
      "\u001b[0;31mTypeError\u001b[0m: '>' not supported between instances of 'str' and 'int'"
     ]
    }
   ],
   "source": [
    "calc_letter_grade(\"one hundred\")"
   ]
  },
  {
   "cell_type": "markdown",
   "id": "9e86f6f4",
   "metadata": {},
   "source": [
    "## Loops\n",
    "\n",
    "We can loop over the grades and apply a function to each:"
   ]
  },
  {
   "cell_type": "code",
   "execution_count": 9,
   "id": "cf00e9c7",
   "metadata": {
    "scrolled": true
   },
   "outputs": [
    {
     "name": "stdout",
     "output_type": "stream",
     "text": [
      "F\n",
      "C\n",
      "A\n",
      "C\n",
      "C\n",
      "C\n",
      "A\n",
      "A\n",
      "F\n",
      "F\n",
      "C\n",
      "F\n",
      "F\n",
      "B\n",
      "B\n",
      "B\n",
      "A\n",
      "A\n",
      "A\n",
      "A\n"
     ]
    }
   ],
   "source": [
    "grades_list = [10,80,100,78,76,73,98,98,1,49,80,30,20,89,90,90,91,98,91,93]\n",
    "\n",
    "for grade in grades_list:\n",
    "    letter_grade = calc_letter_grade(grade)\n",
    "    print(letter_grade)"
   ]
  },
  {
   "cell_type": "markdown",
   "id": "4fc0f579",
   "metadata": {},
   "source": [
    "If we wanted to find the average (or mean) of a list, we can use a __for loop__ to do something for every grade in the list. Note the indentation, which separates what we do to each grade in the list from the rest of the code.\n",
    "\n",
    "We total up the sum of all the items, then we divide by the number of items. One way to do this is:"
   ]
  },
  {
   "cell_type": "code",
   "execution_count": 10,
   "id": "e84961ff",
   "metadata": {},
   "outputs": [
    {
     "name": "stdout",
     "output_type": "stream",
     "text": [
      "479\n",
      "5\n",
      "95.8\n"
     ]
    }
   ],
   "source": [
    "running_total = 0\n",
    "total_items = 0\n",
    "\n",
    "for grade in all_assignments:\n",
    "    running_total = running_total + grade\n",
    "    total_items = total_items + 1\n",
    "    \n",
    "print(running_total)\n",
    "print(total_items)\n",
    "\n",
    "average_grade = running_total / total_items\n",
    "\n",
    "print(average_grade)"
   ]
  },
  {
   "cell_type": "markdown",
   "id": "0e11e417",
   "metadata": {},
   "source": [
    "A list is a common variable, represented by square brackets on the outside, with variables inside, separated by commas. You could have a list of grades for your assignments, for example:"
   ]
  },
  {
   "cell_type": "code",
   "execution_count": 11,
   "id": "0f826a44",
   "metadata": {},
   "outputs": [
    {
     "data": {
      "text/plain": [
       "[0, 100, 94, 50, 100, 90, 95]"
      ]
     },
     "execution_count": 11,
     "metadata": {},
     "output_type": "execute_result"
    }
   ],
   "source": [
    "all_assignments = [0,100,94,50,100,90,95]\n",
    "all_assignments"
   ]
  },
  {
   "cell_type": "markdown",
   "id": "5a9d7e55",
   "metadata": {},
   "source": [
    "You can do things to a list by calling a __function__ like .sort(), which orders it from smallest to largest:"
   ]
  },
  {
   "cell_type": "code",
   "execution_count": 12,
   "id": "167afb3d",
   "metadata": {},
   "outputs": [],
   "source": [
    "all_assignments.sort()"
   ]
  },
  {
   "cell_type": "code",
   "execution_count": 13,
   "id": "37f13622",
   "metadata": {},
   "outputs": [
    {
     "data": {
      "text/plain": [
       "[0, 50, 90, 94, 95, 100, 100]"
      ]
     },
     "execution_count": 13,
     "metadata": {},
     "output_type": "execute_result"
    }
   ],
   "source": [
    "all_assignments"
   ]
  },
  {
   "cell_type": "markdown",
   "id": "a032a0f9",
   "metadata": {},
   "source": [
    "Like many functions, the .sort() function can also be customized with a __parameter__, like with `reverse=True`:"
   ]
  },
  {
   "cell_type": "code",
   "execution_count": 14,
   "id": "493a1639",
   "metadata": {},
   "outputs": [],
   "source": [
    "all_assignments.sort(reverse=True)"
   ]
  },
  {
   "cell_type": "code",
   "execution_count": 15,
   "id": "df12e707",
   "metadata": {},
   "outputs": [
    {
     "data": {
      "text/plain": [
       "[100, 100, 95, 94, 90, 50, 0]"
      ]
     },
     "execution_count": 15,
     "metadata": {},
     "output_type": "execute_result"
    }
   ],
   "source": [
    "all_assignments"
   ]
  },
  {
   "cell_type": "markdown",
   "id": "f393abe1",
   "metadata": {},
   "source": [
    "The __pop__ function removes the last item in the list (and prints it):"
   ]
  },
  {
   "cell_type": "code",
   "execution_count": 16,
   "id": "4c009573",
   "metadata": {},
   "outputs": [
    {
     "data": {
      "text/plain": [
       "0"
      ]
     },
     "execution_count": 16,
     "metadata": {},
     "output_type": "execute_result"
    }
   ],
   "source": [
    "all_assignments.pop()"
   ]
  },
  {
   "cell_type": "code",
   "execution_count": 17,
   "id": "64c6ccbf",
   "metadata": {},
   "outputs": [
    {
     "data": {
      "text/plain": [
       "[100, 100, 95, 94, 90, 50]"
      ]
     },
     "execution_count": 17,
     "metadata": {},
     "output_type": "execute_result"
    }
   ],
   "source": [
    "all_assignments"
   ]
  },
  {
   "cell_type": "markdown",
   "id": "518052b2",
   "metadata": {},
   "source": [
    "## Pandas\n",
    "\n",
    "Pandas is a more powerful __software library__ that contains a lot of pre-written code for working with data, where most of what you need to do is supported with built-in functions."
   ]
  },
  {
   "cell_type": "code",
   "execution_count": 18,
   "id": "7fbf6ee9",
   "metadata": {},
   "outputs": [],
   "source": [
    "import pandas as pd"
   ]
  },
  {
   "cell_type": "code",
   "execution_count": 19,
   "id": "556c8525",
   "metadata": {},
   "outputs": [
    {
     "data": {
      "text/plain": [
       "0      10\n",
       "1      80\n",
       "2     100\n",
       "3      78\n",
       "4      76\n",
       "5      73\n",
       "6      98\n",
       "7      98\n",
       "8       1\n",
       "9      49\n",
       "10     80\n",
       "11     30\n",
       "12     20\n",
       "13     89\n",
       "14     90\n",
       "15     90\n",
       "16     91\n",
       "17     98\n",
       "18     91\n",
       "19     93\n",
       "dtype: int64"
      ]
     },
     "execution_count": 19,
     "metadata": {},
     "output_type": "execute_result"
    }
   ],
   "source": [
    "grade_series = pd.Series(grades_list)\n",
    "grade_series"
   ]
  },
  {
   "cell_type": "markdown",
   "id": "6c835748",
   "metadata": {},
   "source": [
    "Statisticians like to use \"mean\" instead of average, but they are the same for our purposes."
   ]
  },
  {
   "cell_type": "code",
   "execution_count": 20,
   "id": "1ffaa6c1",
   "metadata": {},
   "outputs": [
    {
     "data": {
      "text/plain": [
       "71.75"
      ]
     },
     "execution_count": 20,
     "metadata": {},
     "output_type": "execute_result"
    }
   ],
   "source": [
    "grade_series.mean()"
   ]
  },
  {
   "cell_type": "code",
   "execution_count": 21,
   "id": "b6e7c04d",
   "metadata": {},
   "outputs": [
    {
     "data": {
      "text/plain": [
       "count     20.000000\n",
       "mean      71.750000\n",
       "std       31.600924\n",
       "min        1.000000\n",
       "25%       67.000000\n",
       "50%       84.500000\n",
       "75%       91.500000\n",
       "max      100.000000\n",
       "dtype: float64"
      ]
     },
     "execution_count": 21,
     "metadata": {},
     "output_type": "execute_result"
    }
   ],
   "source": [
    "grade_series.describe()"
   ]
  },
  {
   "cell_type": "markdown",
   "id": "d90bd50a",
   "metadata": {},
   "source": [
    "We can even make plots with the .plot() function. You can specify a kind of plot, as I did with this __hist__ogram."
   ]
  },
  {
   "cell_type": "code",
   "execution_count": 22,
   "id": "8234eafd",
   "metadata": {},
   "outputs": [
    {
     "data": {
      "text/plain": [
       "<AxesSubplot:ylabel='Frequency'>"
      ]
     },
     "execution_count": 22,
     "metadata": {},
     "output_type": "execute_result"
    },
    {
     "data": {
      "image/png": "[encoded data removed]",
      "text/plain": [
       "<Figure size 432x288 with 1 Axes>"
      ]
     },
     "metadata": {
      "needs_background": "light"
     },
     "output_type": "display_data"
    }
   ],
   "source": [
    "grade_series.plot(kind='hist')"
   ]
  },
  {
   "cell_type": "code",
   "execution_count": null,
   "id": "318ca597",
   "metadata": {},
   "outputs": [],
   "source": []
  }
 ],
 "metadata": {
  "kernelspec": {
   "display_name": "Python 3 (clean)",
   "language": "python",
   "name": "python3_clean"
  },
  "language_info": {
   "codemirror_mode": {
    "name": "ipython",
    "version": 3
   },
   "file_extension": ".py",
   "mimetype": "text/x-python",
   "name": "python",
   "nbconvert_exporter": "python",
   "pygments_lexer": "ipython3",
   "version": "3.9.5"
  }
 },
 "nbformat": 4,
 "nbformat_minor": 5
}
