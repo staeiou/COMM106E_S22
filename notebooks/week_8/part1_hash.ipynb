{
 "cells": [
  {
   "cell_type": "code",
   "execution_count": null,
   "id": "b7952ea2",
   "metadata": {},
   "outputs": [],
   "source": [
    "import pandas as pd\n",
    "import matplotlib.pyplot as plt\n",
    "import hashlib"
   ]
  },
  {
   "cell_type": "code",
   "execution_count": null,
   "id": "ebb7661c",
   "metadata": {},
   "outputs": [],
   "source": [
    "data = pd.read_excel(\"supermarket_marketing.xlsx\")"
   ]
  },
  {
   "cell_type": "code",
   "execution_count": null,
   "id": "bad1b155",
   "metadata": {},
   "outputs": [],
   "source": [
    "data['phone']"
   ]
  },
  {
   "cell_type": "code",
   "execution_count": null,
   "id": "5dd46e0c",
   "metadata": {},
   "outputs": [],
   "source": [
    "data['phone'] = data['phone'].astype(object)\n",
    "data['phone']"
   ]
  },
  {
   "cell_type": "code",
   "execution_count": null,
   "id": "62c2fb61",
   "metadata": {},
   "outputs": [],
   "source": [
    "hashlib.algorithms_guaranteed"
   ]
  },
  {
   "cell_type": "code",
   "execution_count": null,
   "id": "56f07128",
   "metadata": {},
   "outputs": [],
   "source": [
    "def to_hash(variable, salt=None):\n",
    "    var_str = str(variable)\n",
    "    \n",
    "    if salt:\n",
    "        var_str = salt + var_str\n",
    "        \n",
    "    var_str = var_str.encode()\n",
    "    \n",
    "    return hashlib.sha256(var_str).hexdigest()"
   ]
  },
  {
   "cell_type": "code",
   "execution_count": null,
   "id": "65a93a18",
   "metadata": {},
   "outputs": [],
   "source": [
    "to_hash(\"hello this is me!\")"
   ]
  },
  {
   "cell_type": "code",
   "execution_count": null,
   "id": "1aa4a22c",
   "metadata": {},
   "outputs": [],
   "source": [
    "to_hash(\"hello this is me.\")"
   ]
  },
  {
   "cell_type": "code",
   "execution_count": null,
   "id": "c1e0b0f6",
   "metadata": {},
   "outputs": [],
   "source": [
    "data['phone_sha256'] = data['phone'].apply(to_hash)"
   ]
  },
  {
   "cell_type": "code",
   "execution_count": null,
   "id": "cb181ce4",
   "metadata": {},
   "outputs": [],
   "source": [
    "data"
   ]
  },
  {
   "cell_type": "code",
   "execution_count": null,
   "id": "92c62689",
   "metadata": {},
   "outputs": [],
   "source": []
  },
  {
   "cell_type": "code",
   "execution_count": null,
   "id": "8e91ffa7",
   "metadata": {},
   "outputs": [],
   "source": []
  }
 ],
 "metadata": {
  "kernelspec": {
   "display_name": "Python 3 (clean)",
   "language": "python",
   "name": "python3_clean"
  },
  "language_info": {
   "codemirror_mode": {
    "name": "ipython",
    "version": 3
   },
   "file_extension": ".py",
   "mimetype": "text/x-python",
   "name": "python",
   "nbconvert_exporter": "python",
   "pygments_lexer": "ipython3",
   "version": "3.9.5"
  }
 },
 "nbformat": 4,
 "nbformat_minor": 5
}
