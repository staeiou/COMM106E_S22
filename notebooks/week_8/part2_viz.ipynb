{
 "cells": [
  {
   "cell_type": "markdown",
   "id": "85a11b08",
   "metadata": {},
   "source": [
    "# Data visualization "
   ]
  },
  {
   "cell_type": "code",
   "execution_count": null,
   "id": "1913a439",
   "metadata": {},
   "outputs": [],
   "source": [
    "!pip install seaborn"
   ]
  },
  {
   "cell_type": "code",
   "execution_count": null,
   "id": "2f9739c1",
   "metadata": {},
   "outputs": [],
   "source": [
    "import seaborn as sns\n",
    "import pandas as pd\n",
    "import matplotlib.pyplot as plt\n",
    "sns.set_theme(style=\"whitegrid\")"
   ]
  },
  {
   "cell_type": "code",
   "execution_count": null,
   "id": "289d80e6",
   "metadata": {},
   "outputs": [],
   "source": [
    "data = pd.read_excel(\"supermarket_marketing.xlsx\")"
   ]
  },
  {
   "cell_type": "code",
   "execution_count": null,
   "id": "20e07d1e",
   "metadata": {},
   "outputs": [],
   "source": [
    "data.columns"
   ]
  },
  {
   "cell_type": "markdown",
   "id": "7b166ce1",
   "metadata": {},
   "source": [
    "# Histograms: showing the distribution of responses for a single variable"
   ]
  },
  {
   "cell_type": "code",
   "execution_count": null,
   "id": "77548121",
   "metadata": {},
   "outputs": [],
   "source": [
    "data['birthyear'].plot(kind='hist')"
   ]
  },
  {
   "cell_type": "code",
   "execution_count": null,
   "id": "1901555c",
   "metadata": {},
   "outputs": [],
   "source": [
    "data['birthyear'].plot(kind='hist', bins=5)"
   ]
  },
  {
   "cell_type": "code",
   "execution_count": null,
   "id": "840b9549",
   "metadata": {},
   "outputs": [],
   "source": [
    "data['birthyear'].plot(kind='hist', bins=75)"
   ]
  },
  {
   "cell_type": "markdown",
   "id": "cba6855c",
   "metadata": {},
   "source": [
    "## To plot counts of a categorical variable"
   ]
  },
  {
   "cell_type": "code",
   "execution_count": null,
   "id": "2f89867d",
   "metadata": {},
   "outputs": [],
   "source": [
    "data['education'].value_counts()"
   ]
  },
  {
   "cell_type": "code",
   "execution_count": null,
   "id": "fae71b99",
   "metadata": {},
   "outputs": [],
   "source": [
    "data['education'].value_counts().plot(kind='bar')"
   ]
  },
  {
   "cell_type": "code",
   "execution_count": null,
   "id": "87386c13",
   "metadata": {},
   "outputs": [],
   "source": [
    "data['education'].value_counts().plot(kind='barh')"
   ]
  },
  {
   "cell_type": "markdown",
   "id": "d932086f",
   "metadata": {},
   "source": [
    "### Changing label rotation:"
   ]
  },
  {
   "cell_type": "code",
   "execution_count": null,
   "id": "393cb47c",
   "metadata": {},
   "outputs": [],
   "source": [
    "data['education'].value_counts().plot(kind='bar')\n",
    "labels = plt.xticks(rotation=45)\n"
   ]
  },
  {
   "cell_type": "code",
   "execution_count": null,
   "id": "0327245b",
   "metadata": {},
   "outputs": [],
   "source": [
    "columns_to_plot = ['wine','sweets','meat','fish']\n",
    "group_by = 'education'\n",
    "\n",
    "data.groupby(plot_by)[columns_to_plot].mean()"
   ]
  },
  {
   "cell_type": "code",
   "execution_count": null,
   "id": "1a22e3f4",
   "metadata": {},
   "outputs": [],
   "source": [
    "data.groupby(plot_by)[columns_to_plot].mean().plot(kind='bar')"
   ]
  },
  {
   "cell_type": "code",
   "execution_count": null,
   "id": "729c2923",
   "metadata": {},
   "outputs": [],
   "source": [
    "data.groupby(plot_by)[columns_to_plot].mean().plot(kind='bar', stacked=True)"
   ]
  },
  {
   "cell_type": "markdown",
   "id": "6bd66dd1",
   "metadata": {},
   "source": [
    "# Box plots --- useful when comparing distribution of a numerical variable across multiple categories"
   ]
  },
  {
   "cell_type": "code",
   "execution_count": null,
   "id": "5a280668",
   "metadata": {},
   "outputs": [],
   "source": [
    "sns.boxplot(data=data, x='education', y='income')\n",
    "labels = plt.xticks(rotation=45)"
   ]
  },
  {
   "cell_type": "code",
   "execution_count": null,
   "id": "8ccf9202",
   "metadata": {},
   "outputs": [],
   "source": [
    "sns.boxplot(data=data, x='income', y='education')\n",
    "labels = plt.xticks(rotation=45)"
   ]
  },
  {
   "cell_type": "markdown",
   "id": "0b569280",
   "metadata": {},
   "source": [
    "## Adding an additional categorical variable with `hue`"
   ]
  },
  {
   "cell_type": "code",
   "execution_count": null,
   "id": "9b03cbef",
   "metadata": {},
   "outputs": [],
   "source": [
    "sns.boxplot(data=data, x='income', y='education', hue='accepted_offer_1')\n",
    "labels = plt.xticks(rotation=45)"
   ]
  },
  {
   "cell_type": "code",
   "execution_count": null,
   "id": "3f149539",
   "metadata": {},
   "outputs": [],
   "source": [
    "sns.boxplot(data=data, x='income', y='education', hue='accepted_offer_1')\n",
    "labels = plt.xticks(rotation=45)"
   ]
  },
  {
   "cell_type": "markdown",
   "id": "b628b8ca",
   "metadata": {},
   "source": [
    "# Jointplots: an upgrade to the standard scatterplot"
   ]
  },
  {
   "cell_type": "code",
   "execution_count": null,
   "id": "68fb8ca7",
   "metadata": {},
   "outputs": [],
   "source": [
    "sns.jointplot(data=data, x='income', y='sweets')"
   ]
  },
  {
   "cell_type": "code",
   "execution_count": null,
   "id": "07b6e8a8",
   "metadata": {},
   "outputs": [],
   "source": [
    "sns.jointplot(data=data, x='income', y='sweets', alpha=0.1)"
   ]
  },
  {
   "cell_type": "code",
   "execution_count": null,
   "id": "659689b0",
   "metadata": {},
   "outputs": [],
   "source": [
    "sns.jointplot(data=data, x='income', y='sweets', kind='hex')"
   ]
  },
  {
   "cell_type": "code",
   "execution_count": null,
   "id": "9dbbd05b",
   "metadata": {},
   "outputs": [],
   "source": [
    "sns.jointplot(data=data, x='income', y='sweets', kind='hist')"
   ]
  },
  {
   "cell_type": "code",
   "execution_count": null,
   "id": "3946acd4",
   "metadata": {},
   "outputs": [],
   "source": [
    "sns.jointplot(data=data, x='income', y='sweets', kind='kde')"
   ]
  },
  {
   "cell_type": "markdown",
   "id": "fa86a59b",
   "metadata": {},
   "source": [
    "## Stacked bar plots"
   ]
  },
  {
   "cell_type": "code",
   "execution_count": null,
   "id": "f85d1f48",
   "metadata": {},
   "outputs": [],
   "source": []
  }
 ],
 "metadata": {
  "kernelspec": {
   "display_name": "Python 3 (clean)",
   "language": "python",
   "name": "python3_clean"
  },
  "language_info": {
   "codemirror_mode": {
    "name": "ipython",
    "version": 3
   },
   "file_extension": ".py",
   "mimetype": "text/x-python",
   "name": "python",
   "nbconvert_exporter": "python",
   "pygments_lexer": "ipython3",
   "version": "3.9.5"
  }
 },
 "nbformat": 4,
 "nbformat_minor": 5
}
