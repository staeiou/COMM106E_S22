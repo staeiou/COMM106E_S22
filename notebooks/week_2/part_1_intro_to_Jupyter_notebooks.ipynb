{
 "cells": [
  {
   "cell_type": "markdown",
   "metadata": {},
   "source": [
    "# Interactive intro to Jupyter notebooks\n",
    "\n",
    "Adapted from [a notebook written by D. Blank at Bryn Mawr](https://jupyter.brynmawr.edu/services/public/dblank/CS245%20Programming%20Languages/2016-Fall/Labs/Chapter%2002%20-%20Introduction%20to%20Python.ipynb)\n",
    "\n",
    "This is a short interactive intro to notebooks. We'll look at\n",
    "- how Jupyter notebooks work\n",
    "- how to combine markdown, python code, output, plots\n",
    "- and some handy shortcuts."
   ]
  },
  {
   "cell_type": "markdown",
   "metadata": {},
   "source": [
    "## What's a notebook?\n",
    "\n",
    "A notebook consists of multiple cells and each cell can have a different type. The most relevant cell types are *code* and *Markdown*. The cell you're currently reading is [Markdown](https://daringfireball.net/projects/markdown/syntax) and Markdown is used for documentation just like here. Markdown is an easy way to format text using a small set of special characters.\n",
    "\n",
    "[Markdown Cheat-Sheet](https://github.com/adam-p/markdown-here/wiki/Markdown-Cheatsheet)"
   ]
  },
  {
   "cell_type": "markdown",
   "metadata": {},
   "source": [
    "## Editing cells\n",
    "\n",
    "Initially you're in command mode.\n",
    "\n",
    "Click __here__ once.\n",
    "\n",
    "You'll see a box around this section indicating that this is a cell and you've selected it. You can select the cell above or below by using the arrow keys on your keyboard or by clicking on it once.\n",
    "\n",
    "If you now double-click on this cell you will enter *edit mode* and you see the Markdown source for this cell and the box around it turning green.\n",
    "\n",
    "Try to edit something in this cell.\n",
    "\n",
    "You'll notice that this cell is still Markdown source code even when you're in edit mode. The reason for this is that you need to __run__ this cell again after editing it. Let's do that now."
   ]
  },
  {
   "cell_type": "markdown",
   "metadata": {},
   "source": [
    "## Running cells\n",
    "\n",
    "Make sure you've selected the cell you want to run (notice the box around it) and from the menu select *Cell* and then *Run Cells*. This will run all selected cells and the Markdown source code will turn into styled paragraphs again.\n",
    "\n",
    "The shortcut for running selected cells is __CTRL-ENTER__."
   ]
  },
  {
   "cell_type": "markdown",
   "metadata": {},
   "source": [
    "## Running code cells\n",
    "\n",
    "The cell below is a code cell that prints the results of a math equation: 2 + 2"
   ]
  },
  {
   "cell_type": "code",
   "execution_count": 1,
   "metadata": {},
   "outputs": [
    {
     "name": "stdout",
     "output_type": "stream",
     "text": [
      "4\n"
     ]
    }
   ],
   "source": [
    "print(2 + 2)"
   ]
  },
  {
   "cell_type": "markdown",
   "metadata": {},
   "source": [
    "You've run your first Python code in a Jupyter notebook and below the cell you'll see the output."
   ]
  },
  {
   "cell_type": "markdown",
   "metadata": {},
   "source": [
    "## Changing between code and Markdown cells\n",
    "\n",
    "The cell below this one should be Python code. But we've selected the wrong cell type. So you need to change it in order to run it.\n",
    "\n",
    "Select the cell containing `print(\"Hello world\")` by clicking on it and then from the menu click on *Cell* / *Cell Type* / *Code*. You can also change the drop-down box to the right of the fast-forward button. \n",
    "\n",
    "You've now changed the cell type to Python 3 code as this notebook is a Python 3 notebook and you'll notice the syntax highlighting and the \"In [ ]:\" right next to the cell. This indicates code input (hence \"In\"). The empty brackets show that this cell was never run.\n",
    "\n",
    "Run the Python cell now by selecting it and pressing __CTRL-ENTER__."
   ]
  },
  {
   "cell_type": "code",
   "execution_count": 2,
   "metadata": {},
   "outputs": [
    {
     "name": "stdout",
     "output_type": "stream",
     "text": [
      "Hello world!\n"
     ]
    }
   ],
   "source": [
    "print(\"Hello world!\")"
   ]
  },
  {
   "cell_type": "markdown",
   "metadata": {},
   "source": [
    "## Editing and running more code\n",
    "\n",
    "This is another code cell, which uses a __for loop__, one of the most common elements of programming. We define a __list__ of numbers, and then __for__ each number in our list of numbers, we will multiply it by 2, and print the result each time."
   ]
  },
  {
   "cell_type": "code",
   "execution_count": 3,
   "metadata": {},
   "outputs": [
    {
     "name": "stdout",
     "output_type": "stream",
     "text": [
      "0\n",
      "2\n",
      "4\n",
      "6\n",
      "8\n",
      "10\n",
      "12\n"
     ]
    }
   ],
   "source": [
    "numbers = [0,1,2,3,4,5,6]\n",
    "for number in numbers:\n",
    "    print(number * 2)"
   ]
  },
  {
   "cell_type": "markdown",
   "metadata": {},
   "source": [
    "## Running code repeatedly\n",
    "\n",
    "You can run a single cell multiple times. Jupyter will only run that cell and not the whole notebook. This is important to understand and the next example shows what this means.\n",
    "\n",
    "The next cell will use a variable that wasn't defined yet. So it'll fail when you run it."
   ]
  },
  {
   "cell_type": "code",
   "execution_count": 4,
   "metadata": {},
   "outputs": [
    {
     "ename": "NameError",
     "evalue": "name 'name' is not defined",
     "output_type": "error",
     "traceback": [
      "\u001b[0;31m---------------------------------------------------------------------------\u001b[0m",
      "\u001b[0;31mNameError\u001b[0m                                 Traceback (most recent call last)",
      "\u001b[0;32m/tmp/ipykernel_347/3277560809.py\u001b[0m in \u001b[0;36m<module>\u001b[0;34m\u001b[0m\n\u001b[0;32m----> 1\u001b[0;31m \u001b[0mprint\u001b[0m\u001b[0;34m(\u001b[0m\u001b[0;34m\"Hello \"\u001b[0m \u001b[0;34m+\u001b[0m \u001b[0mname\u001b[0m \u001b[0;34m+\u001b[0m \u001b[0;34m\"!\"\u001b[0m\u001b[0;34m)\u001b[0m\u001b[0;34m\u001b[0m\u001b[0;34m\u001b[0m\u001b[0m\n\u001b[0m",
      "\u001b[0;31mNameError\u001b[0m: name 'name' is not defined"
     ]
    }
   ],
   "source": [
    "print(\"Hello \" + name + \"!\")"
   ]
  },
  {
   "cell_type": "markdown",
   "metadata": {},
   "source": [
    "Now let's assign a value to that name variable. Run the next cell. Feel free to change the name."
   ]
  },
  {
   "cell_type": "code",
   "execution_count": 5,
   "metadata": {},
   "outputs": [],
   "source": [
    "name = \"Alice\""
   ]
  },
  {
   "cell_type": "markdown",
   "metadata": {},
   "source": [
    "Jupyter (or rather the Python kernel) now has that variable and you can use it anywhere in this notebook. Try it out by running the above cell containing the print statement again. This time it'll work.\n",
    "\n",
    "### What now?!?!\n",
    "\n",
    "This might seem weird and messy, but when you work with data it can make things easier. You can go back and forth between different cells as you work on your data analysis. But you can make it so messy that you lose track of what you did. That is why it is good to keep your notebook in order. \n",
    "\n",
    "You can clear all the outputs and saved variables by going to the Menu -> Kernel -> Restart and Clear Output.\n",
    "\n",
    "You can clear everything and run the entire notebook from scratch at Kernel -> Restart and Run All"
   ]
  },
  {
   "cell_type": "markdown",
   "metadata": {},
   "source": [
    "## Tips\n",
    "\n",
    "- One of the greatest features of Jupyter is __auto-complete__. You can autocomplete variable names in edit mode by pressing __TAB__.\n",
    "- When you're inside the parantheses of a function call you can press __SHIFT-TAB__ to display the parameters you can use.\n",
    "- It's a good idea to restart the kernel when you've lost track of which variables have which values. This can indeed happen when you've run many cells multiple times. In the menu select *Kernel* / *Restart* or *Restart & Clear Outputs* or one of the other options depending on what you want."
   ]
  },
  {
   "cell_type": "markdown",
   "metadata": {},
   "source": [
    "## Shortcuts\n",
    "\n",
    "All of these work when you're in *select mode*. You can find a full list in the menu *Help* / *Keyboard Shortcuts*\n",
    "\n",
    "Key        | Effect\n",
    "------------- |-------------\n",
    "J | select cell below\n",
    "K | select cell above\n",
    "ENTER | enter edit mode\n",
    "CTRL-ENTER | run selected cell\n",
    "M | change cell type to Markdown\n",
    "Y | change cell type to code\n",
    "A | insert cell above\n",
    "B | insert cell below"
   ]
  },
  {
   "cell_type": "markdown",
   "metadata": {},
   "source": [
    "## Congrats!\n",
    "\n",
    "You now know the basics and can use Jupyter notebooks."
   ]
  }
 ],
 "metadata": {
  "kernelspec": {
   "display_name": "Python 3 (ipykernel)",
   "language": "python",
   "name": "python3"
  },
  "language_info": {
   "codemirror_mode": {
    "name": "ipython",
    "version": 3
   },
   "file_extension": ".py",
   "mimetype": "text/x-python",
   "name": "python",
   "nbconvert_exporter": "python",
   "pygments_lexer": "ipython3",
   "version": "3.9.5"
  }
 },
 "nbformat": 4,
 "nbformat_minor": 1
}
