{
 "cells": [
  {
   "cell_type": "markdown",
   "id": "e7100e43",
   "metadata": {},
   "source": [
    "# Template for calculating class grades\n",
    "\n",
    "You will modify this so that it calculates your grades for another class, preferably one you have already taken, so that you can put in your actual grades and make sure you (and your Prof) calculated it right.\n",
    "\n",
    "## Import libraries"
   ]
  },
  {
   "cell_type": "code",
   "execution_count": 1,
   "id": "13baf8e7",
   "metadata": {},
   "outputs": [],
   "source": [
    "import numpy"
   ]
  },
  {
   "cell_type": "markdown",
   "id": "3b56008c",
   "metadata": {},
   "source": [
    "## What are the grading categories and weights?\n",
    "\n",
    "You can have **variables** that store data. We store percentages (such as the __weight__ of each assignment type) as a number between 0 and 1, where 0 is 0%, .50 is 50%, and 1.00 is 100%.\n",
    "\n",
    "Lets take the syllabus for a course you may be currently enrolled in: COMM 100C:"
   ]
  },
  {
   "cell_type": "markdown",
   "id": "f39f8acc",
   "metadata": {},
   "source": [
    "* Section Assignments & Participation 30%\n",
    "* Weekly Assessments 20%\n",
    "* Midterm 20%\n",
    "* Final 30%"
   ]
  },
  {
   "cell_type": "code",
   "execution_count": 2,
   "id": "ef8c9b7b",
   "metadata": {},
   "outputs": [],
   "source": [
    "participation_weight = .30\n",
    "assignments_weight = .20\n",
    "midterm_weight = .20\n",
    "final_weight = .30"
   ]
  },
  {
   "cell_type": "markdown",
   "id": "4e906cca",
   "metadata": {},
   "source": [
    "Did we get that right? Does it all add up to 1 (that is, 100%)?"
   ]
  },
  {
   "cell_type": "code",
   "execution_count": 3,
   "id": "e69a9019",
   "metadata": {},
   "outputs": [
    {
     "data": {
      "text/plain": [
       "1.0"
      ]
     },
     "execution_count": 3,
     "metadata": {},
     "output_type": "execute_result"
    }
   ],
   "source": [
    "participation_weight + assignments_weight + midterm_weight + final_weight"
   ]
  },
  {
   "cell_type": "markdown",
   "id": "a6ec7f1d",
   "metadata": {},
   "source": [
    "Now lets set our grades to be:\n",
    "* Participation: 100%\n",
    "* Assignments (10 each, lowest dropped, scored out of a max of 5): 0, 5, 1, 3, 5, 3, 4, 5, 5, and 5\n",
    "* Midterm: 100%\n",
    "* Final: 90%"
   ]
  },
  {
   "cell_type": "code",
   "execution_count": 4,
   "id": "827a04ba",
   "metadata": {},
   "outputs": [],
   "source": [
    "participation_grade = 1.00\n",
    "assignments_list = [0, 5, 1, 3, 5, 3, 4, 5, 5, 5]\n",
    "midterm_grade = 1.00\n",
    "final_grade = .90"
   ]
  },
  {
   "cell_type": "markdown",
   "id": "dcba8be6",
   "metadata": {},
   "source": [
    "## Multiple assignments within a grade category"
   ]
  },
  {
   "cell_type": "markdown",
   "id": "aa8efa0b",
   "metadata": {},
   "source": [
    "### Dropping the lowest grades"
   ]
  },
  {
   "cell_type": "markdown",
   "id": "003d395a",
   "metadata": {},
   "source": [
    "First we need to sort the list from smallest to largest:"
   ]
  },
  {
   "cell_type": "code",
   "execution_count": 5,
   "id": "662bc638",
   "metadata": {},
   "outputs": [
    {
     "data": {
      "text/plain": [
       "array([0, 1, 3, 3, 4, 5, 5, 5, 5, 5])"
      ]
     },
     "execution_count": 5,
     "metadata": {},
     "output_type": "execute_result"
    }
   ],
   "source": [
    "assignments_list = numpy.sort(assignments_list)\n",
    "assignments_list"
   ]
  },
  {
   "cell_type": "markdown",
   "id": "a3b89fef",
   "metadata": {},
   "source": [
    "Then we will remove the first item from the list. There are a lot of ways to do this. One way to do this is to use the ___index selection___ method, which is called with square brackets, instead of parentheses:\n",
    "`assignments_list[start:end]`. But note that the first item is 0, so the 10th item is actually 9. This is confusing at first, there are lots of memes about starting to count from 0:"
   ]
  },
  {
   "cell_type": "markdown",
   "id": "af8923ee",
   "metadata": {},
   "source": [
    "If we don't specify a start position, it defaults to the beginning of the list. If we don't specify an end position, it defaults to the end of the list. So to select everything but the first (0th, lowest grade after sorting), we can do:"
   ]
  },
  {
   "cell_type": "code",
   "execution_count": 6,
   "id": "9b579664",
   "metadata": {
    "scrolled": true
   },
   "outputs": [
    {
     "data": {
      "text/plain": [
       "array([1, 3, 3, 4, 5, 5, 5, 5, 5])"
      ]
     },
     "execution_count": 6,
     "metadata": {},
     "output_type": "execute_result"
    }
   ],
   "source": [
    "assignments_list[1:]"
   ]
  },
  {
   "cell_type": "markdown",
   "id": "045b3bc3",
   "metadata": {},
   "source": [
    "### Averaging the assignments"
   ]
  },
  {
   "cell_type": "markdown",
   "id": "2e8d45e6",
   "metadata": {},
   "source": [
    "Lets calculate the grade again, but only selecting everything but the lowest grade."
   ]
  },
  {
   "cell_type": "code",
   "execution_count": 7,
   "id": "9cdecab5",
   "metadata": {},
   "outputs": [
    {
     "data": {
      "text/plain": [
       "4.0"
      ]
     },
     "execution_count": 7,
     "metadata": {},
     "output_type": "execute_result"
    }
   ],
   "source": [
    "assignments_average = numpy.mean(assignments_list[1:])\n",
    "assignments_average"
   ]
  },
  {
   "cell_type": "code",
   "execution_count": 8,
   "id": "f3fd588a",
   "metadata": {},
   "outputs": [
    {
     "data": {
      "text/plain": [
       "0.8"
      ]
     },
     "execution_count": 8,
     "metadata": {},
     "output_type": "execute_result"
    }
   ],
   "source": [
    "assignments_max = 5\n",
    "assignments_grade = assignments_average / assignments_max\n",
    "assignments_grade"
   ]
  },
  {
   "cell_type": "markdown",
   "id": "ed2985d7",
   "metadata": {},
   "source": [
    "And now we can run that big function that calculates all the grades:"
   ]
  },
  {
   "cell_type": "code",
   "execution_count": 9,
   "id": "46ad6442",
   "metadata": {},
   "outputs": [
    {
     "data": {
      "text/plain": [
       "0.93"
      ]
     },
     "execution_count": 9,
     "metadata": {},
     "output_type": "execute_result"
    }
   ],
   "source": [
    "class_grade = (participation_grade * participation_weight) + \\\n",
    "(assignments_grade * assignments_weight) + \\\n",
    "(midterm_grade * midterm_weight) + \\\n",
    "(final_grade * final_weight)\n",
    "\n",
    "class_grade"
   ]
  },
  {
   "cell_type": "markdown",
   "id": "f1119759",
   "metadata": {},
   "source": [
    "## Custom functions\n",
    "\n",
    "You can define your own functions. These use a bunch of ___if___ and ___elif___ (short for \"else if\") statements. It goes through each if/elif, checks the condition, and if it matches that condition, it does whatever is indented below. In this case, it returns a different letter grade. If the grade is not greater than .94, it then checks if it is greater than .9, and if not, then it checks if the grade is higher than .87, and so on.\n",
    "\n",
    "This also shows you that indentation (or tabs) can be very important and tricky in python. We will get to that later, but just notice how the indentation implies a structure:"
   ]
  },
  {
   "cell_type": "code",
   "execution_count": 10,
   "id": "28f89ae2",
   "metadata": {},
   "outputs": [],
   "source": [
    "def calc_letter_grade(grade):\n",
    "    if grade > .94:\n",
    "        return 'A'\n",
    "    \n",
    "    elif grade > .9:      \n",
    "        return 'A-'\n",
    "    \n",
    "    elif grade > .87:\n",
    "        return 'B+'\n",
    "    \n",
    "    elif grade > .84:   \n",
    "        return 'B'\n",
    "    \n",
    "    elif grade > .8:\n",
    "        return 'B-'\n",
    "    \n",
    "    elif grade > .77:\n",
    "        return 'C+'\n",
    "    \n",
    "    elif grade > .7:\n",
    "        return 'C'\n",
    "    \n",
    "    elif grade > .6:\n",
    "        return 'D'\n",
    "    \n",
    "    elif grade >= 0:\n",
    "        return 'F'\n",
    "    \n",
    "    else:\n",
    "        return 'ERROR'"
   ]
  },
  {
   "cell_type": "code",
   "execution_count": 11,
   "id": "4fe5a92b",
   "metadata": {},
   "outputs": [
    {
     "data": {
      "text/plain": [
       "'A-'"
      ]
     },
     "execution_count": 11,
     "metadata": {},
     "output_type": "execute_result"
    }
   ],
   "source": [
    "calc_letter_grade(class_grade)"
   ]
  },
  {
   "cell_type": "markdown",
   "id": "dc92d209",
   "metadata": {},
   "source": [
    "## Now go to the menu Kernel -> Restart and Run All to make sure it works again!"
   ]
  }
 ],
 "metadata": {
  "kernelspec": {
   "display_name": "Python 3 (clean)",
   "language": "python",
   "name": "python3_clean"
  },
  "language_info": {
   "codemirror_mode": {
    "name": "ipython",
    "version": 3
   },
   "file_extension": ".py",
   "mimetype": "text/x-python",
   "name": "python",
   "nbconvert_exporter": "python",
   "pygments_lexer": "ipython3",
   "version": "3.9.5"
  }
 },
 "nbformat": 4,
 "nbformat_minor": 5
}
