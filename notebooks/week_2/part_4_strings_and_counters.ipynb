{
 "cells": [
  {
   "cell_type": "markdown",
   "metadata": {},
   "source": [
    "## Note: I'm pretty sure we won't get to this today"
   ]
  },
  {
   "cell_type": "markdown",
   "metadata": {},
   "source": [
    "### Importing libraries\n",
    "Libraries (or packages) are general-purpose software code that other people have written and you can use for free. For example, the `Counter` function from the `collections` library makes it easy to count the most common objects in a set, like words in a document."
   ]
  },
  {
   "cell_type": "code",
   "execution_count": 6,
   "metadata": {},
   "outputs": [],
   "source": [
    "import collections"
   ]
  },
  {
   "cell_type": "code",
   "execution_count": 7,
   "metadata": {},
   "outputs": [
    {
     "name": "stdout",
     "output_type": "stream",
     "text": [
      "This is my essay. I wonder how many words it is. Is it long enough?\n",
      "<class 'str'>\n"
     ]
    }
   ],
   "source": [
    "essay = \"This is my essay. I wonder how many words it is. Is it long enough?\"\n",
    "print(essay)\n",
    "print(type(essay))"
   ]
  },
  {
   "cell_type": "markdown",
   "metadata": {},
   "source": [
    "We have saved a string (`str`) with our text in the variable `essay`. If you call the `collections.Counter()` function with a string, it will count the most common letters (including spaces). You can call the `most_common()` function to print the most common characters."
   ]
  },
  {
   "cell_type": "code",
   "execution_count": 8,
   "metadata": {},
   "outputs": [
    {
     "data": {
      "text/plain": [
       "[(' ', 14),\n",
       " ('s', 7),\n",
       " ('i', 5),\n",
       " ('o', 5),\n",
       " ('n', 4),\n",
       " ('h', 3),\n",
       " ('y', 3),\n",
       " ('e', 3),\n",
       " ('w', 3),\n",
       " ('m', 2),\n",
       " ('a', 2),\n",
       " ('.', 2),\n",
       " ('I', 2),\n",
       " ('d', 2),\n",
       " ('r', 2),\n",
       " ('t', 2),\n",
       " ('g', 2),\n",
       " ('T', 1),\n",
       " ('l', 1),\n",
       " ('u', 1),\n",
       " ('?', 1)]"
      ]
     },
     "execution_count": 8,
     "metadata": {},
     "output_type": "execute_result"
    }
   ],
   "source": [
    "essay_counter = collections.Counter(essay)\n",
    "essay_counter.most_common()"
   ]
  },
  {
   "cell_type": "markdown",
   "metadata": {},
   "source": [
    "We can also split the words in our essay by a space. Our `essay` variable is an object, just like our `essay_counter`. This means you can put a period (.) after it, and call various functions:"
   ]
  },
  {
   "cell_type": "code",
   "execution_count": 9,
   "metadata": {},
   "outputs": [
    {
     "name": "stdout",
     "output_type": "stream",
     "text": [
      "['This', 'is', 'my', 'essay.', 'I', 'wonder', 'how', 'many', 'words', 'it', 'is.', 'Is', 'it', 'long', 'enough?']\n",
      "['This is my essay', 'I wonder how many words it is', 'Is it long enough?']\n"
     ]
    }
   ],
   "source": [
    "print(essay.split(' '))\n",
    "print(essay.split('. '))"
   ]
  },
  {
   "cell_type": "code",
   "execution_count": 10,
   "metadata": {},
   "outputs": [
    {
     "name": "stdout",
     "output_type": "stream",
     "text": [
      "[('it', 2), ('This', 1), ('is', 1), ('my', 1), ('essay.', 1), ('I', 1), ('wonder', 1), ('how', 1), ('many', 1), ('words', 1), ('is.', 1), ('Is', 1), ('long', 1), ('enough?', 1)]\n"
     ]
    }
   ],
   "source": [
    "essay_split_words = essay.split(' ')\n",
    "essay_split_words_counter = collections.Counter(essay_split_words)\n",
    "print(essay_split_words_counter.most_common())"
   ]
  },
  {
   "cell_type": "markdown",
   "metadata": {},
   "source": [
    "Uh-oh! This is a bug --- the code did exactly what we told it to do, but we forgot about capitalization and punctuation. Luckily, we can fix that with other object functions, like `.lower()` and `.replace(from, to)`. "
   ]
  },
  {
   "cell_type": "code",
   "execution_count": 11,
   "metadata": {},
   "outputs": [
    {
     "name": "stdout",
     "output_type": "stream",
     "text": [
      "This is my essay. I wonder how many words it is. Is it long enough?\n",
      "this is my essay. i wonder how many words it is. is it long enough?\n"
     ]
    }
   ],
   "source": [
    "print(essay)\n",
    "essay = essay.lower()\n",
    "print(essay)"
   ]
  },
  {
   "cell_type": "code",
   "execution_count": 12,
   "metadata": {},
   "outputs": [
    {
     "name": "stdout",
     "output_type": "stream",
     "text": [
      "this is my essay  i wonder how many words it is  is it long enough?\n",
      "this is my essay  i wonder how many words it is  is it long enough \n"
     ]
    }
   ],
   "source": [
    "essay = essay.replace('.', ' ')\n",
    "print(essay)\n",
    "essay = essay.replace('?', ' ')\n",
    "print(essay)"
   ]
  },
  {
   "cell_type": "markdown",
   "metadata": {},
   "source": [
    "So lets try that again. You could go back up a few cells and re-run it, but it is good practice to do it over again."
   ]
  },
  {
   "cell_type": "code",
   "execution_count": 13,
   "metadata": {},
   "outputs": [
    {
     "name": "stdout",
     "output_type": "stream",
     "text": [
      "[('is', 3), ('', 3), ('it', 2), ('this', 1), ('my', 1), ('essay', 1), ('i', 1), ('wonder', 1), ('how', 1), ('many', 1), ('words', 1), ('long', 1), ('enough', 1)]\n"
     ]
    }
   ],
   "source": [
    "essay_split_words = essay.split(' ')\n",
    "essay_split_words_counter = collections.Counter(essay_split_words)\n",
    "print(essay_split_words_counter.most_common())"
   ]
  }
 ],
 "metadata": {
  "kernelspec": {
   "display_name": "Python 3 (ipykernel)",
   "language": "python",
   "name": "python3"
  },
  "language_info": {
   "codemirror_mode": {
    "name": "ipython",
    "version": 3
   },
   "file_extension": ".py",
   "mimetype": "text/x-python",
   "name": "python",
   "nbconvert_exporter": "python",
   "pygments_lexer": "ipython3",
   "version": "3.9.5"
  }
 },
 "nbformat": 4,
 "nbformat_minor": 1
}
