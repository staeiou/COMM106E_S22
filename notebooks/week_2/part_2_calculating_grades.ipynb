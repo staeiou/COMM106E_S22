{
 "cells": [
  {
   "cell_type": "markdown",
   "id": "3b56008c",
   "metadata": {},
   "source": [
    "# Calculating our grades\n",
    "\n",
    "You can have **variables** that store data. We store percentages (such as the __weight__ of each assignment type) as a number between 0 and 1, where 0 is 0%, .50 is 50%, and 1.00 is 100%.\n",
    "\n",
    "Lets take the syllabus for a course you may be currently enrolled in: COMM 100C:"
   ]
  },
  {
   "cell_type": "markdown",
   "id": "f39f8acc",
   "metadata": {},
   "source": [
    "* Section Assignments & Participation 30%\n",
    "* Weekly Assessments 20%\n",
    "* Midterm 20%\n",
    "* Final 30%"
   ]
  },
  {
   "cell_type": "code",
   "execution_count": 1,
   "id": "ef8c9b7b",
   "metadata": {},
   "outputs": [],
   "source": [
    "participation_weight = .30\n",
    "assignments_weight = .20\n",
    "midterm_weight = .20\n",
    "final_weight = .30"
   ]
  },
  {
   "cell_type": "markdown",
   "id": "d6d67ca0",
   "metadata": {},
   "source": [
    "Did we get that right? Does it all add up to 1 (that is, 100%)?"
   ]
  },
  {
   "cell_type": "code",
   "execution_count": 2,
   "id": "2cc82b49",
   "metadata": {},
   "outputs": [
    {
     "data": {
      "text/plain": [
       "1.0"
      ]
     },
     "execution_count": 2,
     "metadata": {},
     "output_type": "execute_result"
    }
   ],
   "source": [
    "participation_weight + assignments_weight + midterm_weight + final_weight"
   ]
  },
  {
   "cell_type": "markdown",
   "id": "2681ded8",
   "metadata": {},
   "source": [
    "Now lets set our grades to be:\n",
    "* Participation: 100%\n",
    "* Assignments (average across all): 80%\n",
    "* Midterm: 100%\n",
    "* Final: 90%"
   ]
  },
  {
   "cell_type": "code",
   "execution_count": 3,
   "id": "827a04ba",
   "metadata": {},
   "outputs": [],
   "source": [
    "participation_grade = 1.00\n",
    "assignments_grade = .80\n",
    "midterm_grade = 1.00\n",
    "final_grade = .90"
   ]
  },
  {
   "cell_type": "markdown",
   "id": "b99189f2",
   "metadata": {},
   "source": [
    "Then we can have a big formula that multiplies each grade by the weight, then adds them up:"
   ]
  },
  {
   "cell_type": "code",
   "execution_count": 4,
   "id": "f644ce3a",
   "metadata": {},
   "outputs": [
    {
     "data": {
      "text/plain": [
       "0.93"
      ]
     },
     "execution_count": 4,
     "metadata": {},
     "output_type": "execute_result"
    }
   ],
   "source": [
    "(participation_grade * participation_weight) + (assignments_grade * assignments_weight) + (midterm_grade * midterm_weight) + (final_grade * final_weight)"
   ]
  },
  {
   "cell_type": "markdown",
   "id": "94e4c5d2",
   "metadata": {},
   "source": [
    "This means our grade would be 93/100."
   ]
  },
  {
   "cell_type": "markdown",
   "id": "4b3dba20",
   "metadata": {},
   "source": [
    "You can also break lines up to make it more readable using `\\` --- if you don't, it will assume each new line is a new instruction"
   ]
  },
  {
   "cell_type": "code",
   "execution_count": 5,
   "id": "09da0059",
   "metadata": {},
   "outputs": [
    {
     "data": {
      "text/plain": [
       "0.93"
      ]
     },
     "execution_count": 5,
     "metadata": {},
     "output_type": "execute_result"
    }
   ],
   "source": [
    "(participation_grade * participation_weight) + \\\n",
    "(assignments_grade * assignments_weight) + \\\n",
    "(midterm_grade * midterm_weight) + \\\n",
    "(final_grade * final_weight)"
   ]
  },
  {
   "cell_type": "markdown",
   "id": "8e7fd6df",
   "metadata": {},
   "source": [
    "### Multiple assignments within a grade category"
   ]
  },
  {
   "cell_type": "markdown",
   "id": "1124c942",
   "metadata": {},
   "source": [
    "But typically you have a lot of assignments within a category, like having 10 weekly reflection assignments. So we can do a two-step process of calculating our average (or __mean__) grade for the weekly reflection assignments, then store that as the `assignments_grade`. Then we can re-run that first fomula.\n",
    "\n",
    "To store lists of numbers, we can use a __list__. In python, we specify we are making a list by putting square brackets around a set of numbers and variables, separated by commas. Lets say that our assignments are graded on a scale of 0-5 and our grades were: 0, 5, 1, 3, 5, 3, 4, 5, 5, and 5:"
   ]
  },
  {
   "cell_type": "code",
   "execution_count": 6,
   "id": "73b3416f",
   "metadata": {},
   "outputs": [],
   "source": [
    "assignments_list = [0,5,1,3,5,3,4,5,5,5]"
   ]
  },
  {
   "cell_type": "markdown",
   "id": "02e5d35e",
   "metadata": {},
   "source": [
    "#### Calculating the average of a list of numbers"
   ]
  },
  {
   "cell_type": "markdown",
   "id": "3eb666f3",
   "metadata": {},
   "source": [
    "We want to find the average score, then multiply this by the assignment weight. There are a few different ways we can find the average of a list of numbers. We could add up all the numbers, and then divide by the number of items. There are a few __built-in__ functions that you can use, like `sum()` (to add all them together, aka total) and `len()` (for length, aka number of items in the list)"
   ]
  },
  {
   "cell_type": "code",
   "execution_count": 7,
   "id": "042d7a6f",
   "metadata": {},
   "outputs": [
    {
     "data": {
      "text/plain": [
       "36"
      ]
     },
     "execution_count": 7,
     "metadata": {},
     "output_type": "execute_result"
    }
   ],
   "source": [
    "sum(assignments_list)"
   ]
  },
  {
   "cell_type": "code",
   "execution_count": 8,
   "id": "69143d13",
   "metadata": {},
   "outputs": [
    {
     "data": {
      "text/plain": [
       "10"
      ]
     },
     "execution_count": 8,
     "metadata": {},
     "output_type": "execute_result"
    }
   ],
   "source": [
    "len(assignments_list)"
   ]
  },
  {
   "cell_type": "code",
   "execution_count": 9,
   "id": "eb1dbfda",
   "metadata": {},
   "outputs": [
    {
     "data": {
      "text/plain": [
       "3.6"
      ]
     },
     "execution_count": 9,
     "metadata": {},
     "output_type": "execute_result"
    }
   ],
   "source": [
    "assignments_average = sum(assignments_list) / len(assignments_list)\n",
    "assignments_average"
   ]
  },
  {
   "cell_type": "markdown",
   "id": "e6111d49",
   "metadata": {},
   "source": [
    "But what what we actually want is the percent we got for this score. Assignments are out of a max of 5, so we divide our `assignments_average` by the points possible, which is 5:"
   ]
  },
  {
   "cell_type": "code",
   "execution_count": 10,
   "id": "bd16a66f",
   "metadata": {},
   "outputs": [
    {
     "data": {
      "text/plain": [
       "0.72"
      ]
     },
     "execution_count": 10,
     "metadata": {},
     "output_type": "execute_result"
    }
   ],
   "source": [
    "assignments_max = 5\n",
    "assignments_grade = assignments_average / assignments_max\n",
    "assignments_grade"
   ]
  },
  {
   "cell_type": "markdown",
   "id": "f1bab946",
   "metadata": {},
   "source": [
    "So this means we got 72% average for our assignments, which is 30% (or .30) of our total grade. "
   ]
  },
  {
   "cell_type": "markdown",
   "id": "8f1f92af",
   "metadata": {},
   "source": [
    "#### Averages with numpy library"
   ]
  },
  {
   "cell_type": "markdown",
   "id": "c1116395",
   "metadata": {},
   "source": [
    "We can do it this way, but one of the great things about python is that people have written all kinds of general-purpose ___libraries___ that you can ___import___ and then use the functions they have created. ___numpy___ is a very powerful and popular library. Once you have imported a library, you can call its functions with a .\n",
    "\n",
    "There are lots of libraries, and each of them has lots of functions! These are described in the library's documentation in far too much detail, but also in lots of posts on sites like StackOverflow and GitHub. You can also type numpy. and then hit tab to see all the possible functions. You can put `?` at the end of a function to get info about it:"
   ]
  },
  {
   "cell_type": "code",
   "execution_count": 11,
   "id": "0f68bfbf",
   "metadata": {},
   "outputs": [],
   "source": [
    "import numpy"
   ]
  },
  {
   "cell_type": "code",
   "execution_count": 12,
   "id": "a9d63fb7",
   "metadata": {},
   "outputs": [
    {
     "data": {
      "text/plain": [
       "3.6"
      ]
     },
     "execution_count": 12,
     "metadata": {},
     "output_type": "execute_result"
    }
   ],
   "source": [
    "numpy.mean(assignments_list)"
   ]
  },
  {
   "cell_type": "code",
   "execution_count": 13,
   "id": "129d6ef8",
   "metadata": {},
   "outputs": [
    {
     "data": {
      "text/plain": [
       "4.5"
      ]
     },
     "execution_count": 13,
     "metadata": {},
     "output_type": "execute_result"
    }
   ],
   "source": [
    "numpy.median(assignments_list)"
   ]
  },
  {
   "cell_type": "code",
   "execution_count": 14,
   "id": "82c7e279",
   "metadata": {},
   "outputs": [
    {
     "data": {
      "text/plain": [
       "array([0, 1, 3, 3, 4, 5, 5, 5, 5, 5])"
      ]
     },
     "execution_count": 14,
     "metadata": {},
     "output_type": "execute_result"
    }
   ],
   "source": [
    "numpy.sort(assignments_list)"
   ]
  },
  {
   "cell_type": "code",
   "execution_count": 15,
   "id": "5832f51a",
   "metadata": {},
   "outputs": [],
   "source": [
    "numpy.sort?"
   ]
  },
  {
   "cell_type": "markdown",
   "id": "756c1d5d",
   "metadata": {},
   "source": [
    "So lets use the `numpy.mean()` function and store that as `assignments_average`, then divide by the max score:"
   ]
  },
  {
   "cell_type": "code",
   "execution_count": 16,
   "id": "3e5f71d2",
   "metadata": {},
   "outputs": [
    {
     "data": {
      "text/plain": [
       "3.6"
      ]
     },
     "execution_count": 16,
     "metadata": {},
     "output_type": "execute_result"
    }
   ],
   "source": [
    "assignments_average = sum(assignments_list) / len(assignments_list)\n",
    "assignments_average\n"
   ]
  },
  {
   "cell_type": "code",
   "execution_count": 17,
   "id": "ad4cc136",
   "metadata": {},
   "outputs": [
    {
     "data": {
      "text/plain": [
       "0.72"
      ]
     },
     "execution_count": 17,
     "metadata": {},
     "output_type": "execute_result"
    }
   ],
   "source": [
    "assignments_max = 5\n",
    "assignments_grade = assignments_average / assignments_max\n",
    "assignments_grade"
   ]
  },
  {
   "cell_type": "markdown",
   "id": "2edf715b",
   "metadata": {},
   "source": [
    "So now we can call the formula we had at the beginning of the notebook again. Because we changed `assignments_grade`, that will be updated. But just for our clarity, we will store the other variables for participation, midterm, and final again: "
   ]
  },
  {
   "cell_type": "code",
   "execution_count": 18,
   "id": "4b4143bc",
   "metadata": {},
   "outputs": [],
   "source": [
    "participation_grade = 1.00\n",
    "midterm_grade = 1.00\n",
    "final_grade = .90\n",
    "\n",
    "participation_weight = .30\n",
    "assignments_weight = .20\n",
    "midterm_weight = .20\n",
    "final_weight = .30"
   ]
  },
  {
   "cell_type": "code",
   "execution_count": 19,
   "id": "07bfd8a7",
   "metadata": {},
   "outputs": [
    {
     "data": {
      "text/plain": [
       "0.9139999999999999"
      ]
     },
     "execution_count": 19,
     "metadata": {},
     "output_type": "execute_result"
    }
   ],
   "source": [
    "(participation_grade * participation_weight) + \\\n",
    "(assignments_grade * assignments_weight) + \\\n",
    "(midterm_grade * midterm_weight) + \\\n",
    "(final_grade * final_weight)"
   ]
  },
  {
   "cell_type": "markdown",
   "id": "aa8efa0b",
   "metadata": {},
   "source": [
    "## Dropping the lowest grades"
   ]
  },
  {
   "cell_type": "markdown",
   "id": "003d395a",
   "metadata": {},
   "source": [
    "But what about if you have an assignment group where the lowest 1 or 2 grades are dropped? We can use functions to handle that as well. First we need to sort the list from smallest to largest:"
   ]
  },
  {
   "cell_type": "code",
   "execution_count": 20,
   "id": "662bc638",
   "metadata": {},
   "outputs": [
    {
     "data": {
      "text/plain": [
       "array([0, 1, 3, 3, 4, 5, 5, 5, 5, 5])"
      ]
     },
     "execution_count": 20,
     "metadata": {},
     "output_type": "execute_result"
    }
   ],
   "source": [
    "assignments_list = numpy.sort(assignments_list)\n",
    "assignments_list"
   ]
  },
  {
   "cell_type": "markdown",
   "id": "a3b89fef",
   "metadata": {},
   "source": [
    "Then we will remove the first item from the list. There are a lot of ways to do this. One way to do this is to use the ___index selection___ method, which is called with square brackets, instead of parentheses:\n",
    "`assignments_list[start:end]`. But note that the first item is 0, so the 10th item is actually 9. This is confusing at first, there are lots of memes about starting to count from 0:"
   ]
  },
  {
   "cell_type": "code",
   "execution_count": 21,
   "id": "648d8d3e",
   "metadata": {},
   "outputs": [
    {
     "data": {
      "text/plain": [
       "array([0, 1, 3, 3, 4, 5, 5, 5, 5])"
      ]
     },
     "execution_count": 21,
     "metadata": {},
     "output_type": "execute_result"
    }
   ],
   "source": [
    "assignments_list[0:9]"
   ]
  },
  {
   "cell_type": "markdown",
   "id": "3895c127",
   "metadata": {},
   "source": [
    "Selecting everything after the first item (dropping lowest):"
   ]
  },
  {
   "cell_type": "code",
   "execution_count": 22,
   "id": "0d291e10",
   "metadata": {},
   "outputs": [
    {
     "data": {
      "text/plain": [
       "array([1, 3, 3, 4, 5, 5, 5, 5])"
      ]
     },
     "execution_count": 22,
     "metadata": {},
     "output_type": "execute_result"
    }
   ],
   "source": [
    "assignments_list[1:9]"
   ]
  },
  {
   "cell_type": "markdown",
   "id": "6f5bad7c",
   "metadata": {},
   "source": [
    "Selecting everything after the first two items (dropping lowest two):"
   ]
  },
  {
   "cell_type": "code",
   "execution_count": 23,
   "id": "46fa19fd",
   "metadata": {},
   "outputs": [
    {
     "data": {
      "text/plain": [
       "array([3, 3, 4, 5, 5, 5, 5])"
      ]
     },
     "execution_count": 23,
     "metadata": {},
     "output_type": "execute_result"
    }
   ],
   "source": [
    "assignments_list[2:9]"
   ]
  },
  {
   "cell_type": "markdown",
   "id": "2b286a7e",
   "metadata": {},
   "source": [
    "FYI, when you do a select, the items you don't select are still there in the original list. They aren't deleted:"
   ]
  },
  {
   "cell_type": "code",
   "execution_count": 24,
   "id": "5ffddd72",
   "metadata": {},
   "outputs": [
    {
     "data": {
      "text/plain": [
       "array([0, 1, 3, 3, 4, 5, 5, 5, 5, 5])"
      ]
     },
     "execution_count": 24,
     "metadata": {},
     "output_type": "execute_result"
    }
   ],
   "source": [
    "assignments_list"
   ]
  },
  {
   "cell_type": "markdown",
   "id": "af8923ee",
   "metadata": {},
   "source": [
    "If we don't specify a start position, it defaults to the beginning of the list. If we don't specify an end position, it defaults to the end of the list. So to select everything but the first (0th, lowest grade after sorting), we can do:"
   ]
  },
  {
   "cell_type": "code",
   "execution_count": 25,
   "id": "9b579664",
   "metadata": {},
   "outputs": [
    {
     "data": {
      "text/plain": [
       "array([1, 3, 3, 4, 5, 5, 5, 5, 5])"
      ]
     },
     "execution_count": 25,
     "metadata": {},
     "output_type": "execute_result"
    }
   ],
   "source": [
    "assignments_list[1:]"
   ]
  },
  {
   "cell_type": "markdown",
   "id": "2e8d45e6",
   "metadata": {},
   "source": [
    "Lets calculate the grade again, but only selecting everything but the lowest grade."
   ]
  },
  {
   "cell_type": "code",
   "execution_count": 26,
   "id": "9cdecab5",
   "metadata": {},
   "outputs": [
    {
     "data": {
      "text/plain": [
       "4.0"
      ]
     },
     "execution_count": 26,
     "metadata": {},
     "output_type": "execute_result"
    }
   ],
   "source": [
    "assignments_average = numpy.mean(assignments_list[1:])\n",
    "assignments_average"
   ]
  },
  {
   "cell_type": "code",
   "execution_count": 27,
   "id": "f3fd588a",
   "metadata": {},
   "outputs": [
    {
     "data": {
      "text/plain": [
       "0.8"
      ]
     },
     "execution_count": 27,
     "metadata": {},
     "output_type": "execute_result"
    }
   ],
   "source": [
    "assignments_max = 5\n",
    "assignments_grade = assignments_average / assignments_max\n",
    "assignments_grade"
   ]
  },
  {
   "cell_type": "markdown",
   "id": "ed2985d7",
   "metadata": {},
   "source": [
    "And now we can re-run that big function that calculates all the grades:"
   ]
  },
  {
   "cell_type": "code",
   "execution_count": 28,
   "id": "46ad6442",
   "metadata": {},
   "outputs": [
    {
     "data": {
      "text/plain": [
       "0.93"
      ]
     },
     "execution_count": 28,
     "metadata": {},
     "output_type": "execute_result"
    }
   ],
   "source": [
    "class_grade = (participation_grade * participation_weight) + \\\n",
    "(assignments_grade * assignments_weight) + \\\n",
    "(midterm_grade * midterm_weight) + \\\n",
    "(final_grade * final_weight)\n",
    "\n",
    "class_grade"
   ]
  },
  {
   "cell_type": "markdown",
   "id": "f1119759",
   "metadata": {},
   "source": [
    "## Custom functions\n",
    "\n",
    "You can define your own functions. These use a bunch of ___if___ and ___elif___ (short for \"else if\") statements. It goes through each if/elif, checks the condition, and if it matches that condition, it does whatever is indented below. In this case, it returns a different letter grade. If the grade is not greater than .94, it then checks if it is greater than .9, and if not, then it checks if the grade is higher than .87, and so on.\n",
    "\n",
    "This also shows you that indentation (or tabs) can be very important and tricky in python. We will get to that later, but just notice how the indentation implies a structure:"
   ]
  },
  {
   "cell_type": "code",
   "execution_count": 29,
   "id": "28f89ae2",
   "metadata": {},
   "outputs": [],
   "source": [
    "def calc_letter_grade(grade):\n",
    "    if grade > .94:\n",
    "        return 'A'\n",
    "    \n",
    "    elif grade > .9:      \n",
    "        return 'A-'\n",
    "    \n",
    "    elif grade > .87:\n",
    "        return 'B+'\n",
    "    \n",
    "    elif grade > .84:   \n",
    "        return 'B'\n",
    "    \n",
    "    elif grade > .8:\n",
    "        return 'B-'\n",
    "    \n",
    "    elif grade > .77:\n",
    "        return 'C+'\n",
    "    \n",
    "    elif grade > .7:\n",
    "        return 'C'\n",
    "    \n",
    "    elif grade > .6:\n",
    "        return 'D'\n",
    "    \n",
    "    elif grade >= 0:\n",
    "        return 'F'\n",
    "    \n",
    "    else:\n",
    "        return 'ERROR'"
   ]
  },
  {
   "cell_type": "code",
   "execution_count": 30,
   "id": "4fe5a92b",
   "metadata": {},
   "outputs": [
    {
     "data": {
      "text/plain": [
       "'B+'"
      ]
     },
     "execution_count": 30,
     "metadata": {},
     "output_type": "execute_result"
    }
   ],
   "source": [
    "calc_letter_grade(.9)"
   ]
  },
  {
   "cell_type": "code",
   "execution_count": 31,
   "id": "8a80c378",
   "metadata": {},
   "outputs": [
    {
     "data": {
      "text/plain": [
       "'F'"
      ]
     },
     "execution_count": 31,
     "metadata": {},
     "output_type": "execute_result"
    }
   ],
   "source": [
    "calc_letter_grade(.3)"
   ]
  },
  {
   "cell_type": "code",
   "execution_count": 32,
   "id": "4df193ff",
   "metadata": {},
   "outputs": [
    {
     "ename": "TypeError",
     "evalue": "'>' not supported between instances of 'str' and 'float'",
     "output_type": "error",
     "traceback": [
      "\u001b[0;31m---------------------------------------------------------------------------\u001b[0m",
      "\u001b[0;31mTypeError\u001b[0m                                 Traceback (most recent call last)",
      "\u001b[0;32m/tmp/ipykernel_721/2892990219.py\u001b[0m in \u001b[0;36m<module>\u001b[0;34m\u001b[0m\n\u001b[0;32m----> 1\u001b[0;31m \u001b[0mcalc_letter_grade\u001b[0m\u001b[0;34m(\u001b[0m\u001b[0;34m\"one hundred\"\u001b[0m\u001b[0;34m)\u001b[0m\u001b[0;34m\u001b[0m\u001b[0;34m\u001b[0m\u001b[0m\n\u001b[0m",
      "\u001b[0;32m/tmp/ipykernel_721/1507312518.py\u001b[0m in \u001b[0;36mcalc_letter_grade\u001b[0;34m(grade)\u001b[0m\n\u001b[1;32m      1\u001b[0m \u001b[0;32mdef\u001b[0m \u001b[0mcalc_letter_grade\u001b[0m\u001b[0;34m(\u001b[0m\u001b[0mgrade\u001b[0m\u001b[0;34m)\u001b[0m\u001b[0;34m:\u001b[0m\u001b[0;34m\u001b[0m\u001b[0;34m\u001b[0m\u001b[0m\n\u001b[0;32m----> 2\u001b[0;31m     \u001b[0;32mif\u001b[0m \u001b[0mgrade\u001b[0m \u001b[0;34m>\u001b[0m \u001b[0;36m.94\u001b[0m\u001b[0;34m:\u001b[0m\u001b[0;34m\u001b[0m\u001b[0;34m\u001b[0m\u001b[0m\n\u001b[0m\u001b[1;32m      3\u001b[0m         \u001b[0;32mreturn\u001b[0m \u001b[0;34m'A'\u001b[0m\u001b[0;34m\u001b[0m\u001b[0;34m\u001b[0m\u001b[0m\n\u001b[1;32m      4\u001b[0m \u001b[0;34m\u001b[0m\u001b[0m\n\u001b[1;32m      5\u001b[0m     \u001b[0;32melif\u001b[0m \u001b[0mgrade\u001b[0m \u001b[0;34m>\u001b[0m \u001b[0;36m.9\u001b[0m\u001b[0;34m:\u001b[0m\u001b[0;34m\u001b[0m\u001b[0;34m\u001b[0m\u001b[0m\n",
      "\u001b[0;31mTypeError\u001b[0m: '>' not supported between instances of 'str' and 'float'"
     ]
    }
   ],
   "source": [
    "calc_letter_grade(\"one hundred\")"
   ]
  },
  {
   "cell_type": "markdown",
   "id": "18ccba5d",
   "metadata": {},
   "source": [
    "This gives us an error, because python has no idea what we mean when we ask if the __str__ing \"one hundred\" is greater than the number .94. It does not let you use the greater than sign to compare a string and a number (numbers with decimal points are called ___floats___)."
   ]
  },
  {
   "cell_type": "markdown",
   "id": "5486bbc5",
   "metadata": {},
   "source": [
    "To wrap it all up:"
   ]
  },
  {
   "cell_type": "code",
   "execution_count": 33,
   "id": "886a9656",
   "metadata": {},
   "outputs": [
    {
     "data": {
      "text/plain": [
       "'A-'"
      ]
     },
     "execution_count": 33,
     "metadata": {},
     "output_type": "execute_result"
    }
   ],
   "source": [
    "class_grade = (participation_grade * participation_weight) + \\\n",
    "(assignments_grade * assignments_weight) + \\\n",
    "(midterm_grade * midterm_weight) + \\\n",
    "(final_grade * final_weight)\n",
    "\n",
    "calc_letter_grade(class_grade)"
   ]
  },
  {
   "cell_type": "markdown",
   "id": "518052b2",
   "metadata": {},
   "source": [
    "## Pandas\n",
    "\n",
    "Pandas is a more powerful __software library__ that contains a lot of pre-written code for working with data, where most of what you need to do is supported with built-in functions."
   ]
  },
  {
   "cell_type": "code",
   "execution_count": 34,
   "id": "7fbf6ee9",
   "metadata": {},
   "outputs": [],
   "source": [
    "import pandas"
   ]
  },
  {
   "cell_type": "code",
   "execution_count": 35,
   "id": "556c8525",
   "metadata": {},
   "outputs": [
    {
     "data": {
      "text/plain": [
       "0    0\n",
       "1    1\n",
       "2    3\n",
       "3    3\n",
       "4    4\n",
       "5    5\n",
       "6    5\n",
       "7    5\n",
       "8    5\n",
       "9    5\n",
       "dtype: int64"
      ]
     },
     "execution_count": 35,
     "metadata": {},
     "output_type": "execute_result"
    }
   ],
   "source": [
    "grade_series = pandas.Series(assignments_list)\n",
    "grade_series"
   ]
  },
  {
   "cell_type": "markdown",
   "id": "6c835748",
   "metadata": {},
   "source": [
    "Statisticians like to use \"mean\" instead of average, but they are the same for our purposes."
   ]
  },
  {
   "cell_type": "code",
   "execution_count": 36,
   "id": "1ffaa6c1",
   "metadata": {},
   "outputs": [
    {
     "data": {
      "text/plain": [
       "3.6"
      ]
     },
     "execution_count": 36,
     "metadata": {},
     "output_type": "execute_result"
    }
   ],
   "source": [
    "grade_series.mean()"
   ]
  },
  {
   "cell_type": "code",
   "execution_count": 37,
   "id": "b6e7c04d",
   "metadata": {},
   "outputs": [
    {
     "data": {
      "text/plain": [
       "count    10.000000\n",
       "mean      3.600000\n",
       "std       1.837873\n",
       "min       0.000000\n",
       "25%       3.000000\n",
       "50%       4.500000\n",
       "75%       5.000000\n",
       "max       5.000000\n",
       "dtype: float64"
      ]
     },
     "execution_count": 37,
     "metadata": {},
     "output_type": "execute_result"
    }
   ],
   "source": [
    "grade_series.describe()"
   ]
  },
  {
   "cell_type": "markdown",
   "id": "d90bd50a",
   "metadata": {},
   "source": [
    "We can even make plots with the .plot() function. You can specify a kind of plot, as I did with this __hist__ogram."
   ]
  },
  {
   "cell_type": "code",
   "execution_count": 38,
   "id": "8234eafd",
   "metadata": {},
   "outputs": [
    {
     "data": {
      "text/plain": [
       "<AxesSubplot:ylabel='Frequency'>"
      ]
     },
     "execution_count": 38,
     "metadata": {},
     "output_type": "execute_result"
    },
    {
     "data": {
      "image/png": "[encoded data removed]",
      "text/plain": [
       "<Figure size 432x288 with 1 Axes>"
      ]
     },
     "metadata": {
      "needs_background": "light"
     },
     "output_type": "display_data"
    }
   ],
   "source": [
    "grade_series.plot(kind='hist')"
   ]
  },
  {
   "cell_type": "code",
   "execution_count": null,
   "id": "318ca597",
   "metadata": {},
   "outputs": [],
   "source": []
  },
  {
   "cell_type": "code",
   "execution_count": null,
   "id": "dcd17af9",
   "metadata": {},
   "outputs": [],
   "source": []
  },
  {
   "cell_type": "code",
   "execution_count": null,
   "id": "db8f5cc4",
   "metadata": {},
   "outputs": [],
   "source": []
  }
 ],
 "metadata": {
  "kernelspec": {
   "display_name": "Python 3 (clean)",
   "language": "python",
   "name": "python3_clean"
  },
  "language_info": {
   "codemirror_mode": {
    "name": "ipython",
    "version": 3
   },
   "file_extension": ".py",
   "mimetype": "text/x-python",
   "name": "python",
   "nbconvert_exporter": "python",
   "pygments_lexer": "ipython3",
   "version": "3.9.5"
  }
 },
 "nbformat": 4,
 "nbformat_minor": 5
}
