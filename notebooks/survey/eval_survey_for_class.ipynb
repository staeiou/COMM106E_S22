{
 "cells": [
  {
   "cell_type": "markdown",
   "id": "934c65e9",
   "metadata": {},
   "source": [
    "# Analyzing survey data from Qualtrics"
   ]
  },
  {
   "cell_type": "code",
   "execution_count": null,
   "id": "31331757",
   "metadata": {},
   "outputs": [],
   "source": [
    "import pandas as pd\n",
    "import numpy as np\n",
    "import matplotlib.pyplot as plt\n",
    "import matplotlib as mpl\n",
    "mpl.rcParams['figure.dpi'] = 100\n"
   ]
  },
  {
   "cell_type": "code",
   "execution_count": null,
   "id": "f62c2455",
   "metadata": {},
   "outputs": [],
   "source": [
    "data = pd.read_excel(\"106e_eval_20220427.xlsx\")"
   ]
  },
  {
   "cell_type": "code",
   "execution_count": null,
   "id": "c86ea580",
   "metadata": {},
   "outputs": [],
   "source": [
    "data.columns"
   ]
  },
  {
   "cell_type": "code",
   "execution_count": null,
   "id": "c7bf9ac1",
   "metadata": {},
   "outputs": [],
   "source": [
    "columns_to_drop = ['StartDate', 'EndDate', 'Status', 'Progress', 'Duration (in seconds)',\n",
    "       'Finished', 'RecordedDate', 'ResponseId', 'DistributionChannel',\n",
    "       'UserLanguage','feedback']"
   ]
  },
  {
   "cell_type": "code",
   "execution_count": null,
   "id": "09f34e5a",
   "metadata": {},
   "outputs": [],
   "source": [
    "data = data.drop(columns=columns_to_drop)"
   ]
  },
  {
   "cell_type": "code",
   "execution_count": null,
   "id": "05f6970d",
   "metadata": {},
   "outputs": [],
   "source": [
    "data = data[1:]"
   ]
  },
  {
   "cell_type": "markdown",
   "id": "ec8a3468",
   "metadata": {},
   "source": [
    "## Find and replace on all values"
   ]
  },
  {
   "cell_type": "code",
   "execution_count": null,
   "id": "765a2453",
   "metadata": {},
   "outputs": [],
   "source": [
    "rename_answers = {\n",
    "    \"Strongly disagree\" : \"1: Strongly disagree\",\n",
    "    \"Somewhat disagree\" : \"2: Somewhat disagree\",\n",
    "    \"In the middle\" : \"3: In the middle\",\n",
    "    \"Neither agree nor disagree\" : \"3: In the middle\",\n",
    "    \"Somewhat agree\" : \"4: Somewhat agree\",\n",
    "    \"Strongly agree\" : \"5: Strongly agree\",\n",
    "    \"I don't know or don't want to say\" : np.nan,\n",
    "    -99 : np.nan\n",
    "    }\n"
   ]
  },
  {
   "cell_type": "code",
   "execution_count": null,
   "id": "ec3799e9",
   "metadata": {},
   "outputs": [],
   "source": [
    "data = data.replace(rename_answers)"
   ]
  },
  {
   "cell_type": "code",
   "execution_count": null,
   "id": "f1b09937",
   "metadata": {},
   "outputs": [],
   "source": []
  },
  {
   "cell_type": "markdown",
   "id": "6967751b",
   "metadata": {},
   "source": [
    "### Export to excel"
   ]
  },
  {
   "cell_type": "code",
   "execution_count": null,
   "id": "e2999a5b",
   "metadata": {},
   "outputs": [],
   "source": [
    "data.to_excel(\"106e_eval_cleaned.xlsx\")"
   ]
  },
  {
   "cell_type": "markdown",
   "id": "14522d80",
   "metadata": {},
   "source": [
    "## Calculating and visualizing results"
   ]
  },
  {
   "cell_type": "code",
   "execution_count": null,
   "id": "89a58370",
   "metadata": {},
   "outputs": [],
   "source": [
    "data['zoom_quality'].value_counts()"
   ]
  },
  {
   "cell_type": "code",
   "execution_count": null,
   "id": "f0976e60",
   "metadata": {},
   "outputs": [],
   "source": [
    "data['zoom_quality'].value_counts(normalize=True)"
   ]
  },
  {
   "cell_type": "code",
   "execution_count": null,
   "id": "27f8b29e",
   "metadata": {},
   "outputs": [],
   "source": [
    "data['zoom_quality'].value_counts(normalize=True).plot(kind='barh')"
   ]
  },
  {
   "cell_type": "code",
   "execution_count": null,
   "id": "4796bdb1",
   "metadata": {},
   "outputs": [],
   "source": [
    "data['zoom_quality'].value_counts(normalize=True).plot(kind='barh')"
   ]
  },
  {
   "cell_type": "code",
   "execution_count": null,
   "id": "fe84e3e0",
   "metadata": {},
   "outputs": [],
   "source": [
    "import matplotlib.ticker as mtick"
   ]
  },
  {
   "cell_type": "code",
   "execution_count": null,
   "id": "33f54568",
   "metadata": {},
   "outputs": [],
   "source": [
    "ax = data['zoom_quality'].value_counts(normalize=True).plot(kind='barh')\n",
    "ax.set_title(\"zoom_quality\")\n",
    "ax.set_xlabel(\"Percent responding\")\n",
    "ax.xaxis.set_major_formatter(mtick.PercentFormatter(xmax=1))\n",
    "\n",
    "plt.savefig(\"zoom_quality_percent.png\", bbox_inches='tight')"
   ]
  },
  {
   "cell_type": "code",
   "execution_count": null,
   "id": "e7e7439a",
   "metadata": {},
   "outputs": [],
   "source": [
    "ax = data['hours_studying'].plot(kind='hist', bins=25)\n",
    "ax.set_title(\"Hours Studying\")\n",
    "\n",
    "plt.savefig(\"hours_studying.png\", bbox_inches='tight')"
   ]
  },
  {
   "cell_type": "markdown",
   "id": "6d832e01",
   "metadata": {},
   "source": [
    "## Automating plots"
   ]
  },
  {
   "cell_type": "markdown",
   "id": "ab18e41a",
   "metadata": {},
   "source": [
    "### Cleaning up the results summaries from value_counts()"
   ]
  },
  {
   "cell_type": "code",
   "execution_count": null,
   "id": "f2020d18",
   "metadata": {},
   "outputs": [],
   "source": [
    "def cleanup_result(result):\n",
    "    \n",
    "    all_responses = ['1: Strongly disagree',\n",
    "                    '2: Somewhat disagree',\n",
    "                    '3: In the middle',\n",
    "                    '4: Somewhat agree',\n",
    "                    '5: Strongly agree']\n",
    "    \n",
    "    for response in all_responses:\n",
    "        if response not in result.index:\n",
    "            result = pd.concat([result,pd.Series({response:0})])\n",
    "            \n",
    "    if np.nan in result.index:\n",
    "        result.index = result.index.fillna('No response / don\\'t know')\n",
    "    \n",
    "    return result.sort_index()"
   ]
  },
  {
   "cell_type": "code",
   "execution_count": null,
   "id": "b36727d9",
   "metadata": {},
   "outputs": [],
   "source": [
    "result = data['interesting_topics'].value_counts(normalize=True, dropna=False)"
   ]
  },
  {
   "cell_type": "code",
   "execution_count": null,
   "id": "9b57dbf0",
   "metadata": {},
   "outputs": [],
   "source": [
    "result"
   ]
  },
  {
   "cell_type": "code",
   "execution_count": null,
   "id": "7078a0a4",
   "metadata": {},
   "outputs": [],
   "source": [
    "cleanup_result(result)"
   ]
  },
  {
   "cell_type": "markdown",
   "id": "9f87de88",
   "metadata": {},
   "source": [
    "### Looping through all the columns except the first and last and plotting each graph"
   ]
  },
  {
   "cell_type": "code",
   "execution_count": null,
   "id": "92488bb6",
   "metadata": {},
   "outputs": [],
   "source": [
    "for column in data.columns[1:-1]:\n",
    "    print(column)"
   ]
  },
  {
   "cell_type": "code",
   "execution_count": null,
   "id": "f4c7bf79",
   "metadata": {},
   "outputs": [],
   "source": [
    "!mkdir figures"
   ]
  },
  {
   "cell_type": "code",
   "execution_count": null,
   "id": "63dfc2e7",
   "metadata": {},
   "outputs": [],
   "source": [
    "for column in data.columns[1:-1]:\n",
    "    result = data[column].value_counts(normalize=True, dropna=False)\n",
    "    result = cleanup_result(result)\n",
    "    \n",
    "    ax = result.plot(kind='barh')\n",
    "    \n",
    "    ax.set_title(column)\n",
    "    ax.set_xlabel(\"Percent responding\")\n",
    "    \n",
    "    plt.show()\n",
    "    \n",
    "    plt.savefig(\"figures/\" + column + \"_percent.png\", bbox_inches='tight')"
   ]
  },
  {
   "cell_type": "code",
   "execution_count": null,
   "id": "93f768aa",
   "metadata": {},
   "outputs": [],
   "source": []
  }
 ],
 "metadata": {
  "kernelspec": {
   "display_name": "Python 3 (clean)",
   "language": "python",
   "name": "python3_clean"
  },
  "language_info": {
   "codemirror_mode": {
    "name": "ipython",
    "version": 3
   },
   "file_extension": ".py",
   "mimetype": "text/x-python",
   "name": "python",
   "nbconvert_exporter": "python",
   "pygments_lexer": "ipython3",
   "version": "3.9.5"
  }
 },
 "nbformat": 4,
 "nbformat_minor": 5
}
