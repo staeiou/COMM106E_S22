{
 "cells": [
  {
   "cell_type": "markdown",
   "metadata": {},
   "source": [
    "## Building a machine learning text classifier"
   ]
  },
  {
   "cell_type": "code",
   "execution_count": 1,
   "metadata": {},
   "outputs": [
    {
     "name": "stdout",
     "output_type": "stream",
     "text": [
      "Defaulting to user installation because normal site-packages is not writeable\n",
      "Requirement already satisfied: pandas in /opt/conda/lib/python3.9/site-packages (1.4.1)\n",
      "Requirement already satisfied: seaborn in /opt/conda/lib/python3.9/site-packages (0.11.1)\n",
      "Requirement already satisfied: nltk in /opt/conda/lib/python3.9/site-packages (3.7)\n",
      "Requirement already satisfied: scikit-learn==1.0.2 in /home/sgeiger/.local/lib/python3.9/site-packages (1.0.2)\n",
      "Requirement already satisfied: transformers in /home/sgeiger/.local/lib/python3.9/site-packages (4.18.0)\n",
      "Requirement already satisfied: tensorflow in /home/sgeiger/.local/lib/python3.9/site-packages (2.8.0)\n",
      "Requirement already satisfied: emoji in /home/sgeiger/.local/lib/python3.9/site-packages (1.7.0)\n",
      "Requirement already satisfied: torch in /home/sgeiger/.local/lib/python3.9/site-packages (1.11.0)\n",
      "Requirement already satisfied: scipy>=1.1.0 in /home/sgeiger/.local/lib/python3.9/site-packages (from scikit-learn==1.0.2) (1.5.4)\n",
      "Requirement already satisfied: threadpoolctl>=2.0.0 in /opt/conda/lib/python3.9/site-packages (from scikit-learn==1.0.2) (2.2.0)\n",
      "Requirement already satisfied: numpy>=1.14.6 in /home/sgeiger/.local/lib/python3.9/site-packages (from scikit-learn==1.0.2) (1.22.3)\n",
      "Requirement already satisfied: joblib>=0.11 in /opt/conda/lib/python3.9/site-packages (from scikit-learn==1.0.2) (1.0.1)\n",
      "Requirement already satisfied: python-dateutil>=2.8.1 in /opt/conda/lib/python3.9/site-packages (from pandas) (2.8.2)\n",
      "Requirement already satisfied: pytz>=2020.1 in /opt/conda/lib/python3.9/site-packages (from pandas) (2021.1)\n",
      "Requirement already satisfied: six>=1.5 in /home/sgeiger/.local/lib/python3.9/site-packages (from python-dateutil>=2.8.1->pandas) (1.15.0)\n",
      "Requirement already satisfied: matplotlib>=2.2 in /opt/conda/lib/python3.9/site-packages (from seaborn) (3.4.2)\n",
      "Requirement already satisfied: pyparsing>=2.2.1 in /opt/conda/lib/python3.9/site-packages (from matplotlib>=2.2->seaborn) (2.4.7)\n",
      "Requirement already satisfied: pillow>=6.2.0 in /opt/conda/lib/python3.9/site-packages (from matplotlib>=2.2->seaborn) (8.3.1)\n",
      "Requirement already satisfied: cycler>=0.10 in /opt/conda/lib/python3.9/site-packages (from matplotlib>=2.2->seaborn) (0.10.0)\n",
      "Requirement already satisfied: kiwisolver>=1.0.1 in /opt/conda/lib/python3.9/site-packages (from matplotlib>=2.2->seaborn) (1.3.1)\n",
      "Requirement already satisfied: tqdm in /opt/conda/lib/python3.9/site-packages (from nltk) (4.61.2)\n",
      "Requirement already satisfied: regex>=2021.8.3 in /opt/conda/lib/python3.9/site-packages (from nltk) (2022.3.2)\n",
      "Requirement already satisfied: click in /opt/conda/lib/python3.9/site-packages (from nltk) (8.0.1)\n",
      "Requirement already satisfied: filelock in /home/sgeiger/.local/lib/python3.9/site-packages (from transformers) (3.6.0)\n",
      "Requirement already satisfied: huggingface-hub<1.0,>=0.1.0 in /home/sgeiger/.local/lib/python3.9/site-packages (from transformers) (0.5.1)\n",
      "Requirement already satisfied: packaging>=20.0 in /opt/conda/lib/python3.9/site-packages (from transformers) (21.0)\n",
      "Requirement already satisfied: requests in /opt/conda/lib/python3.9/site-packages (from transformers) (2.26.0)\n",
      "Requirement already satisfied: pyyaml>=5.1 in /opt/conda/lib/python3.9/site-packages (from transformers) (5.4.1)\n",
      "Requirement already satisfied: sacremoses in /home/sgeiger/.local/lib/python3.9/site-packages (from transformers) (0.0.49)\n",
      "Requirement already satisfied: tokenizers!=0.11.3,<0.13,>=0.11.1 in /home/sgeiger/.local/lib/python3.9/site-packages (from transformers) (0.12.1)\n",
      "Requirement already satisfied: typing-extensions>=3.7.4.3 in /home/sgeiger/.local/lib/python3.9/site-packages (from huggingface-hub<1.0,>=0.1.0->transformers) (3.10.0.2)\n",
      "Requirement already satisfied: protobuf>=3.9.2 in /opt/conda/lib/python3.9/site-packages (from tensorflow) (3.17.2)\n",
      "Requirement already satisfied: absl-py>=0.4.0 in /home/sgeiger/.local/lib/python3.9/site-packages (from tensorflow) (1.0.0)\n",
      "Requirement already satisfied: flatbuffers>=1.12 in /home/sgeiger/.local/lib/python3.9/site-packages (from tensorflow) (2.0)\n",
      "Requirement already satisfied: setuptools in /opt/conda/lib/python3.9/site-packages (from tensorflow) (49.6.0.post20210108)\n",
      "Requirement already satisfied: gast>=0.2.1 in /home/sgeiger/.local/lib/python3.9/site-packages (from tensorflow) (0.5.3)\n",
      "Requirement already satisfied: h5py>=2.9.0 in /opt/conda/lib/python3.9/site-packages (from tensorflow) (3.3.0)\n",
      "Requirement already satisfied: libclang>=9.0.1 in /home/sgeiger/.local/lib/python3.9/site-packages (from tensorflow) (13.0.0)\n",
      "Requirement already satisfied: opt-einsum>=2.3.2 in /home/sgeiger/.local/lib/python3.9/site-packages (from tensorflow) (3.3.0)\n",
      "Requirement already satisfied: tensorboard<2.9,>=2.8 in /home/sgeiger/.local/lib/python3.9/site-packages (from tensorflow) (2.8.0)\n",
      "Requirement already satisfied: keras<2.9,>=2.8.0rc0 in /home/sgeiger/.local/lib/python3.9/site-packages (from tensorflow) (2.8.0)\n",
      "Requirement already satisfied: tf-estimator-nightly==2.8.0.dev2021122109 in /home/sgeiger/.local/lib/python3.9/site-packages (from tensorflow) (2.8.0.dev2021122109)\n",
      "Requirement already satisfied: wrapt>=1.11.0 in /home/sgeiger/.local/lib/python3.9/site-packages (from tensorflow) (1.14.0)\n",
      "Requirement already satisfied: keras-preprocessing>=1.1.1 in /home/sgeiger/.local/lib/python3.9/site-packages (from tensorflow) (1.1.2)\n",
      "Requirement already satisfied: astunparse>=1.6.0 in /home/sgeiger/.local/lib/python3.9/site-packages (from tensorflow) (1.6.3)\n",
      "Requirement already satisfied: termcolor>=1.1.0 in /home/sgeiger/.local/lib/python3.9/site-packages (from tensorflow) (1.1.0)\n",
      "Requirement already satisfied: tensorflow-io-gcs-filesystem>=0.23.1 in /home/sgeiger/.local/lib/python3.9/site-packages (from tensorflow) (0.24.0)\n",
      "Requirement already satisfied: grpcio<2.0,>=1.24.3 in /home/sgeiger/.local/lib/python3.9/site-packages (from tensorflow) (1.44.0)\n",
      "Requirement already satisfied: google-pasta>=0.1.1 in /home/sgeiger/.local/lib/python3.9/site-packages (from tensorflow) (0.2.0)\n",
      "Requirement already satisfied: wheel<1.0,>=0.23.0 in /opt/conda/lib/python3.9/site-packages (from astunparse>=1.6.0->tensorflow) (0.36.2)\n",
      "Requirement already satisfied: google-auth-oauthlib<0.5,>=0.4.1 in /home/sgeiger/.local/lib/python3.9/site-packages (from tensorboard<2.9,>=2.8->tensorflow) (0.4.6)\n",
      "Requirement already satisfied: tensorboard-data-server<0.7.0,>=0.6.0 in /home/sgeiger/.local/lib/python3.9/site-packages (from tensorboard<2.9,>=2.8->tensorflow) (0.6.1)\n",
      "Requirement already satisfied: tensorboard-plugin-wit>=1.6.0 in /home/sgeiger/.local/lib/python3.9/site-packages (from tensorboard<2.9,>=2.8->tensorflow) (1.8.0)\n",
      "Requirement already satisfied: google-auth<3,>=1.6.3 in /home/sgeiger/.local/lib/python3.9/site-packages (from tensorboard<2.9,>=2.8->tensorflow) (2.3.0)\n",
      "Requirement already satisfied: markdown>=2.6.8 in /opt/conda/lib/python3.9/site-packages (from tensorboard<2.9,>=2.8->tensorflow) (3.3.6)\n",
      "Requirement already satisfied: werkzeug>=0.11.15 in /home/sgeiger/.local/lib/python3.9/site-packages (from tensorboard<2.9,>=2.8->tensorflow) (2.0.2)\n",
      "Requirement already satisfied: cachetools<5.0,>=2.0.0 in /home/sgeiger/.local/lib/python3.9/site-packages (from google-auth<3,>=1.6.3->tensorboard<2.9,>=2.8->tensorflow) (4.2.4)\n",
      "Requirement already satisfied: pyasn1-modules>=0.2.1 in /home/sgeiger/.local/lib/python3.9/site-packages (from google-auth<3,>=1.6.3->tensorboard<2.9,>=2.8->tensorflow) (0.2.8)\n",
      "Requirement already satisfied: rsa<5,>=3.1.4 in /home/sgeiger/.local/lib/python3.9/site-packages (from google-auth<3,>=1.6.3->tensorboard<2.9,>=2.8->tensorflow) (4.7.2)\n",
      "Requirement already satisfied: requests-oauthlib>=0.7.0 in /home/sgeiger/.local/lib/python3.9/site-packages (from google-auth-oauthlib<0.5,>=0.4.1->tensorboard<2.9,>=2.8->tensorflow) (1.3.0)\n",
      "Requirement already satisfied: importlib-metadata>=4.4 in /opt/conda/lib/python3.9/site-packages (from markdown>=2.6.8->tensorboard<2.9,>=2.8->tensorflow) (4.6.1)\n",
      "Requirement already satisfied: zipp>=0.5 in /opt/conda/lib/python3.9/site-packages (from importlib-metadata>=4.4->markdown>=2.6.8->tensorboard<2.9,>=2.8->tensorflow) (3.5.0)\n",
      "Requirement already satisfied: pyasn1<0.5.0,>=0.4.6 in /home/sgeiger/.local/lib/python3.9/site-packages (from pyasn1-modules>=0.2.1->google-auth<3,>=1.6.3->tensorboard<2.9,>=2.8->tensorflow) (0.4.8)\n"
     ]
    },
    {
     "name": "stdout",
     "output_type": "stream",
     "text": [
      "Requirement already satisfied: certifi>=2017.4.17 in /opt/conda/lib/python3.9/site-packages (from requests->transformers) (2021.10.8)\r\n",
      "Requirement already satisfied: idna<4,>=2.5 in /opt/conda/lib/python3.9/site-packages (from requests->transformers) (3.1)\r\n",
      "Requirement already satisfied: urllib3<1.27,>=1.21.1 in /opt/conda/lib/python3.9/site-packages (from requests->transformers) (1.26.6)\r\n",
      "Requirement already satisfied: charset-normalizer~=2.0.0 in /opt/conda/lib/python3.9/site-packages (from requests->transformers) (2.0.0)\r\n",
      "Requirement already satisfied: oauthlib>=3.0.0 in /opt/conda/lib/python3.9/site-packages (from requests-oauthlib>=0.7.0->google-auth-oauthlib<0.5,>=0.4.1->tensorboard<2.9,>=2.8->tensorflow) (3.1.1)\r\n"
     ]
    }
   ],
   "source": [
    "!pip install pandas seaborn nltk scikit-learn==1.0.2 transformers tensorflow emoji torch"
   ]
  },
  {
   "cell_type": "code",
   "execution_count": 2,
   "metadata": {},
   "outputs": [
    {
     "name": "stderr",
     "output_type": "stream",
     "text": [
      "2022-04-27 16:32:29.913377: W tensorflow/stream_executor/platform/default/dso_loader.cc:64] Could not load dynamic library 'libcudart.so.11.0'; dlerror: libcudart.so.11.0: cannot open shared object file: No such file or directory; LD_LIBRARY_PATH: /usr/local/nvidia/lib64:/usr/local/cuda/lib64\n",
      "2022-04-27 16:32:29.913437: I tensorflow/stream_executor/cuda/cudart_stub.cc:29] Ignore above cudart dlerror if you do not have a GPU set up on your machine.\n"
     ]
    }
   ],
   "source": [
    "import numpy as np\n",
    "import pandas as pd\n",
    "\n",
    "import nltk\n",
    "import nltk.corpus\n",
    "import sklearn\n",
    "import sklearn.pipeline\n",
    "import sklearn.feature_extraction.text\n",
    "import sklearn.naive_bayes\n",
    "import sklearn.model_selection\n",
    "import sklearn.metrics\n",
    "import tensorflow\n",
    "import transformers"
   ]
  },
  {
   "cell_type": "markdown",
   "metadata": {},
   "source": [
    "## Loading and exploring data"
   ]
  },
  {
   "cell_type": "code",
   "execution_count": 3,
   "metadata": {},
   "outputs": [],
   "source": [
    "data = pd.read_csv(\"spam_ham_dataset.csv\")"
   ]
  },
  {
   "cell_type": "code",
   "execution_count": 4,
   "metadata": {},
   "outputs": [
    {
     "data": {
      "text/html": [
       "<div>\n",
       "<style scoped>\n",
       "    .dataframe tbody tr th:only-of-type {\n",
       "        vertical-align: middle;\n",
       "    }\n",
       "\n",
       "    .dataframe tbody tr th {\n",
       "        vertical-align: top;\n",
       "    }\n",
       "\n",
       "    .dataframe thead th {\n",
       "        text-align: right;\n",
       "    }\n",
       "</style>\n",
       "<table border=\"1\" class=\"dataframe\">\n",
       "  <thead>\n",
       "    <tr style=\"text-align: right;\">\n",
       "      <th></th>\n",
       "      <th>label</th>\n",
       "      <th>text</th>\n",
       "      <th>label_num</th>\n",
       "    </tr>\n",
       "  </thead>\n",
       "  <tbody>\n",
       "    <tr>\n",
       "      <th>0</th>\n",
       "      <td>ham</td>\n",
       "      <td>Subject: enron methanol ; meter # : 988291\\nth...</td>\n",
       "      <td>0</td>\n",
       "    </tr>\n",
       "    <tr>\n",
       "      <th>1</th>\n",
       "      <td>ham</td>\n",
       "      <td>Subject: hpl nom for january 9 , 2001\\n( see a...</td>\n",
       "      <td>0</td>\n",
       "    </tr>\n",
       "    <tr>\n",
       "      <th>2</th>\n",
       "      <td>ham</td>\n",
       "      <td>Subject: neon retreat\\nho ho ho , we ' re arou...</td>\n",
       "      <td>0</td>\n",
       "    </tr>\n",
       "    <tr>\n",
       "      <th>3</th>\n",
       "      <td>spam</td>\n",
       "      <td>Subject: photoshop , windows , office . cheap ...</td>\n",
       "      <td>1</td>\n",
       "    </tr>\n",
       "    <tr>\n",
       "      <th>4</th>\n",
       "      <td>ham</td>\n",
       "      <td>Subject: re : indian springs\\nthis deal is to ...</td>\n",
       "      <td>0</td>\n",
       "    </tr>\n",
       "  </tbody>\n",
       "</table>\n",
       "</div>"
      ],
      "text/plain": [
       "  label                                               text  label_num\n",
       "0   ham  Subject: enron methanol ; meter # : 988291\\nth...          0\n",
       "1   ham  Subject: hpl nom for january 9 , 2001\\n( see a...          0\n",
       "2   ham  Subject: neon retreat\\nho ho ho , we ' re arou...          0\n",
       "3  spam  Subject: photoshop , windows , office . cheap ...          1\n",
       "4   ham  Subject: re : indian springs\\nthis deal is to ...          0"
      ]
     },
     "execution_count": 4,
     "metadata": {},
     "output_type": "execute_result"
    }
   ],
   "source": [
    "data.head()"
   ]
  },
  {
   "cell_type": "code",
   "execution_count": 5,
   "metadata": {},
   "outputs": [
    {
     "data": {
      "text/plain": [
       "ham     3672\n",
       "spam    1499\n",
       "Name: label, dtype: int64"
      ]
     },
     "execution_count": 5,
     "metadata": {},
     "output_type": "execute_result"
    }
   ],
   "source": [
    "data['label'].value_counts()"
   ]
  },
  {
   "cell_type": "code",
   "execution_count": 6,
   "metadata": {},
   "outputs": [
    {
     "data": {
      "text/plain": [
       "<AxesSubplot:>"
      ]
     },
     "execution_count": 6,
     "metadata": {},
     "output_type": "execute_result"
    },
    {
     "data": {
      "image/png": "[encoded data removed]",
      "text/plain": [
       "<Figure size 432x288 with 1 Axes>"
      ]
     },
     "metadata": {
      "needs_background": "light"
     },
     "output_type": "display_data"
    }
   ],
   "source": [
    "data['label'].value_counts().plot(kind='bar')"
   ]
  },
  {
   "cell_type": "code",
   "execution_count": 7,
   "metadata": {},
   "outputs": [
    {
     "data": {
      "text/plain": [
       "<AxesSubplot:>"
      ]
     },
     "execution_count": 7,
     "metadata": {},
     "output_type": "execute_result"
    },
    {
     "data": {
      "image/png": "[encoded data removed]",
      "text/plain": [
       "<Figure size 432x288 with 1 Axes>"
      ]
     },
     "metadata": {
      "needs_background": "light"
     },
     "output_type": "display_data"
    }
   ],
   "source": [
    "data['label'].value_counts().plot(kind='barh')"
   ]
  },
  {
   "cell_type": "markdown",
   "metadata": {},
   "source": [
    "## Training the model pipeline"
   ]
  },
  {
   "cell_type": "code",
   "execution_count": 9,
   "metadata": {},
   "outputs": [],
   "source": [
    "pipeline = sklearn.pipeline.Pipeline([\n",
    "    ('vect', sklearn.feature_extraction.text.CountVectorizer()),\n",
    "    ('tfidf', sklearn.feature_extraction.text.TfidfTransformer()),\n",
    "    ('clf', sklearn.naive_bayes.MultinomialNB()),\n",
    "])\n"
   ]
  },
  {
   "cell_type": "code",
   "execution_count": 10,
   "metadata": {},
   "outputs": [
    {
     "data": {
      "text/plain": [
       "Pipeline(steps=[('vect', CountVectorizer()), ('tfidf', TfidfTransformer()),\n",
       "                ('clf', MultinomialNB())])"
      ]
     },
     "execution_count": 10,
     "metadata": {},
     "output_type": "execute_result"
    }
   ],
   "source": [
    "# use the pipeline to classify\n",
    "pipeline.fit(data['text'], data['label'])"
   ]
  },
  {
   "cell_type": "code",
   "execution_count": 15,
   "metadata": {},
   "outputs": [],
   "source": [
    "emails_to_score = ['I need this report by 9am!',\n",
    "                   'buy viagra pills for cheap',\n",
    "                   'our next conference should be in France']\n",
    "prediction = pipeline.predict(emails_to_score)"
   ]
  },
  {
   "cell_type": "code",
   "execution_count": 16,
   "metadata": {},
   "outputs": [
    {
     "data": {
      "text/plain": [
       "array(['ham', 'spam', 'ham'], dtype='<U4')"
      ]
     },
     "execution_count": 16,
     "metadata": {},
     "output_type": "execute_result"
    }
   ],
   "source": [
    "# print the prediction\n",
    "prediction"
   ]
  },
  {
   "cell_type": "code",
   "execution_count": 17,
   "metadata": {},
   "outputs": [],
   "source": [
    "prediction = pipeline.predict_proba(emails_to_score)"
   ]
  },
  {
   "cell_type": "code",
   "execution_count": 18,
   "metadata": {},
   "outputs": [
    {
     "data": {
      "text/plain": [
       "array([[0.95126313, 0.04873687],\n",
       "       [0.04273119, 0.95726881],\n",
       "       [0.87394376, 0.12605624]])"
      ]
     },
     "execution_count": 18,
     "metadata": {},
     "output_type": "execute_result"
    }
   ],
   "source": [
    "prediction"
   ]
  },
  {
   "cell_type": "markdown",
   "metadata": {},
   "source": [
    "### Split the data into training and testing sets\n"
   ]
  },
  {
   "cell_type": "code",
   "execution_count": 19,
   "metadata": {},
   "outputs": [],
   "source": [
    "X_train, X_test, y_train, y_test = sklearn.model_selection.train_test_split(data['text'], \n",
    "                                                                            data['label'], \n",
    "                                                                            test_size=0.2, \n",
    "                                                                            random_state=42)"
   ]
  },
  {
   "cell_type": "markdown",
   "metadata": {},
   "source": [
    "### Train the model by fitting the pipeline to the training data"
   ]
  },
  {
   "cell_type": "code",
   "execution_count": 20,
   "metadata": {},
   "outputs": [
    {
     "data": {
      "text/plain": [
       "Pipeline(steps=[('vect', CountVectorizer()), ('tfidf', TfidfTransformer()),\n",
       "                ('clf', MultinomialNB())])"
      ]
     },
     "execution_count": 20,
     "metadata": {},
     "output_type": "execute_result"
    }
   ],
   "source": [
    "pipeline.fit(X_train, y_train)"
   ]
  },
  {
   "cell_type": "markdown",
   "metadata": {},
   "source": [
    "### Use the pipeline to predict the labels of the testing data\n"
   ]
  },
  {
   "cell_type": "code",
   "execution_count": 21,
   "metadata": {},
   "outputs": [],
   "source": [
    "y_pred = pipeline.predict(X_test)"
   ]
  },
  {
   "cell_type": "code",
   "execution_count": 22,
   "metadata": {},
   "outputs": [
    {
     "data": {
      "text/plain": [
       "array(['ham', 'spam', 'ham', ..., 'spam', 'ham', 'ham'], dtype='<U4')"
      ]
     },
     "execution_count": 22,
     "metadata": {},
     "output_type": "execute_result"
    }
   ],
   "source": [
    "y_pred"
   ]
  },
  {
   "cell_type": "markdown",
   "metadata": {},
   "source": [
    "### Score the model with the test data"
   ]
  },
  {
   "cell_type": "code",
   "execution_count": 23,
   "metadata": {},
   "outputs": [
    {
     "name": "stdout",
     "output_type": "stream",
     "text": [
      "0.8772946859903382\n"
     ]
    }
   ],
   "source": [
    "print(pipeline.score(X_test, y_test))"
   ]
  },
  {
   "cell_type": "code",
   "execution_count": 24,
   "metadata": {
    "scrolled": true
   },
   "outputs": [
    {
     "name": "stdout",
     "output_type": "stream",
     "text": [
      "              precision    recall  f1-score   support\n",
      "\n",
      "         ham       0.85      1.00      0.92       742\n",
      "        spam       1.00      0.57      0.72       293\n",
      "\n",
      "    accuracy                           0.88      1035\n",
      "   macro avg       0.93      0.78      0.82      1035\n",
      "weighted avg       0.90      0.88      0.87      1035\n",
      "\n"
     ]
    }
   ],
   "source": [
    "print(sklearn.metrics.classification_report(y_test, y_pred))"
   ]
  },
  {
   "cell_type": "markdown",
   "metadata": {},
   "source": [
    "Precision: \n",
    "\n",
    "$\\frac{\\mbox{total number of correct predictions for a label}}{\\mbox{number of correct and incorrect predictions for that label}}$\n",
    "\n",
    "Recall (aka true positive rate, hit rate, sensitivity):\n",
    "\n",
    "$\\frac{\\mbox{total number of correct predictions for a label}}{\\mbox{number of correct + incorrect predictions for that label }}$\n",
    "\n",
    "F1 score: \n",
    "\n",
    "$2*\\frac{\\mbox{precision * recall}}{\\mbox{precision + recall}}$"
   ]
  },
  {
   "cell_type": "code",
   "execution_count": 25,
   "metadata": {},
   "outputs": [
    {
     "data": {
      "text/plain": [
       "array([[742,   0],\n",
       "       [127, 166]])"
      ]
     },
     "execution_count": 25,
     "metadata": {},
     "output_type": "execute_result"
    }
   ],
   "source": [
    "sklearn.metrics.confusion_matrix(y_test, y_pred)"
   ]
  },
  {
   "cell_type": "markdown",
   "metadata": {},
   "source": [
    "### Auditing the model for variations in locations"
   ]
  },
  {
   "cell_type": "markdown",
   "metadata": {},
   "source": [
    "`pipeline.predict_proba` gives the probability for the labels: first number is probability it is ham, second is probability it is spam"
   ]
  },
  {
   "cell_type": "code",
   "execution_count": 26,
   "metadata": {},
   "outputs": [
    {
     "data": {
      "text/plain": [
       "array([[0.68349417, 0.31650583],\n",
       "       [0.68349417, 0.31650583],\n",
       "       [0.67919661, 0.32080339],\n",
       "       [0.77331943, 0.22668057],\n",
       "       [0.70459582, 0.29540418],\n",
       "       [0.22805741, 0.77194259]])"
      ]
     },
     "execution_count": 26,
     "metadata": {},
     "output_type": "execute_result"
    }
   ],
   "source": [
    "pipeline.predict_proba([\"test\",\"test\",\"train\",\"california\", 'hawaii','buy viagra'])"
   ]
  },
  {
   "cell_type": "code",
   "execution_count": 27,
   "metadata": {},
   "outputs": [],
   "source": [
    "countries = pd.read_csv(\"countries.csv\")"
   ]
  },
  {
   "cell_type": "code",
   "execution_count": 28,
   "metadata": {},
   "outputs": [
    {
     "data": {
      "text/html": [
       "<div>\n",
       "<style scoped>\n",
       "    .dataframe tbody tr th:only-of-type {\n",
       "        vertical-align: middle;\n",
       "    }\n",
       "\n",
       "    .dataframe tbody tr th {\n",
       "        vertical-align: top;\n",
       "    }\n",
       "\n",
       "    .dataframe thead th {\n",
       "        text-align: right;\n",
       "    }\n",
       "</style>\n",
       "<table border=\"1\" class=\"dataframe\">\n",
       "  <thead>\n",
       "    <tr style=\"text-align: right;\">\n",
       "      <th></th>\n",
       "      <th>country</th>\n",
       "    </tr>\n",
       "  </thead>\n",
       "  <tbody>\n",
       "    <tr>\n",
       "      <th>0</th>\n",
       "      <td>Afghanistan</td>\n",
       "    </tr>\n",
       "    <tr>\n",
       "      <th>1</th>\n",
       "      <td>Albania</td>\n",
       "    </tr>\n",
       "    <tr>\n",
       "      <th>2</th>\n",
       "      <td>Algeria</td>\n",
       "    </tr>\n",
       "    <tr>\n",
       "      <th>3</th>\n",
       "      <td>Andorra</td>\n",
       "    </tr>\n",
       "    <tr>\n",
       "      <th>4</th>\n",
       "      <td>Angola</td>\n",
       "    </tr>\n",
       "    <tr>\n",
       "      <th>...</th>\n",
       "      <td>...</td>\n",
       "    </tr>\n",
       "    <tr>\n",
       "      <th>188</th>\n",
       "      <td>Vietnam</td>\n",
       "    </tr>\n",
       "    <tr>\n",
       "      <th>189</th>\n",
       "      <td>Western Sahara</td>\n",
       "    </tr>\n",
       "    <tr>\n",
       "      <th>190</th>\n",
       "      <td>Yemen</td>\n",
       "    </tr>\n",
       "    <tr>\n",
       "      <th>191</th>\n",
       "      <td>Zambia</td>\n",
       "    </tr>\n",
       "    <tr>\n",
       "      <th>192</th>\n",
       "      <td>Zimbabwe</td>\n",
       "    </tr>\n",
       "  </tbody>\n",
       "</table>\n",
       "<p>193 rows × 1 columns</p>\n",
       "</div>"
      ],
      "text/plain": [
       "            country\n",
       "0       Afghanistan\n",
       "1           Albania\n",
       "2           Algeria\n",
       "3           Andorra\n",
       "4            Angola\n",
       "..              ...\n",
       "188         Vietnam\n",
       "189  Western Sahara\n",
       "190           Yemen\n",
       "191          Zambia\n",
       "192        Zimbabwe\n",
       "\n",
       "[193 rows x 1 columns]"
      ]
     },
     "execution_count": 28,
     "metadata": {},
     "output_type": "execute_result"
    }
   ],
   "source": [
    "countries"
   ]
  },
  {
   "cell_type": "code",
   "execution_count": 29,
   "metadata": {},
   "outputs": [
    {
     "name": "stdout",
     "output_type": "stream",
     "text": [
      "Afghanistan 0.199\n",
      "Albania 0.198\n",
      "Algeria 0.167\n",
      "Andorra 0.167\n",
      "Angola 0.204\n",
      "Antigua and Barbuda 0.16\n",
      "Argentina 0.202\n",
      "Armenia 0.209\n",
      "Austria 0.2\n",
      "Azerbaijan 0.204\n",
      "Bahrain 0.167\n",
      "Bangladesh 0.205\n",
      "Barbados 0.206\n",
      "Belarus 0.167\n",
      "Belgium 0.203\n",
      "Belize 0.32\n",
      "Benin 0.216\n",
      "Bhutan 0.199\n",
      "Bolivia 0.204\n",
      "Bosnia and Herzegovina 0.16\n",
      "Botswana 0.199\n",
      "Brazil 0.212\n",
      "Brunei 0.202\n",
      "Bulgaria 0.197\n",
      "Burkina Faso 0.167\n",
      "Burundi 0.21\n",
      "Cabo Verde 0.195\n",
      "Cambodia 0.205\n",
      "Cameroon 0.167\n",
      "Canada 0.205\n",
      "Central African Republic 0.149\n",
      "Chad 0.12\n",
      "Channel Islands 0.152\n",
      "Chile 0.204\n",
      "China 0.249\n",
      "Colombia 0.167\n",
      "Comoros 0.167\n",
      "Congo 0.199\n",
      "Costa Rica 0.239\n",
      "Côte d'Ivoire 0.214\n",
      "Croatia 0.151\n",
      "Cuba 0.216\n",
      "Cyprus 0.2\n",
      "Czech Republic 0.211\n",
      "Denmark 0.198\n",
      "Djibouti 0.167\n",
      "Dominica 0.196\n",
      "Dominican Republic 0.176\n",
      "DR Congo 0.252\n",
      "Ecuador 0.199\n",
      "Egypt 0.209\n",
      "El Salvador 0.137\n",
      "Equatorial Guinea 0.167\n",
      "Eritrea 0.198\n",
      "Estonia 0.197\n",
      "Eswatini 0.167\n",
      "Ethiopia 0.167\n",
      "Faeroe Islands 0.191\n",
      "Finland 0.205\n",
      "France 0.202\n",
      "French Guiana 0.238\n",
      "Gabon 0.167\n",
      "Gambia 0.204\n",
      "Georgia 0.19\n",
      "Germany 0.214\n",
      "Ghana 0.199\n",
      "Gibraltar 0.199\n",
      "Greece 0.167\n",
      "Grenada 0.167\n",
      "Guatemala 0.2\n",
      "Guinea 0.167\n",
      "Guinea-Bissau 0.199\n",
      "Guyana 0.167\n",
      "Haiti 0.2\n",
      "Holy See 0.161\n",
      "Honduras 0.203\n",
      "Hong Kong 0.269\n",
      "Hungary 0.199\n",
      "Iceland 0.201\n",
      "India 0.212\n",
      "Indonesia 0.198\n",
      "Iran 0.205\n",
      "Iraq 0.21\n",
      "Ireland 0.206\n",
      "Isle of Man 0.279\n",
      "Israel 0.199\n",
      "Italy 0.197\n",
      "Jamaica 0.211\n",
      "Japan 0.205\n",
      "Jordan 0.194\n",
      "Kazakhstan 0.167\n",
      "Kenya 0.203\n",
      "Kuwait 0.206\n",
      "Kyrgyzstan 0.167\n",
      "Laos 0.199\n",
      "Latvia 0.203\n",
      "Lebanon 0.167\n",
      "Lesotho 0.167\n",
      "Liberia 0.203\n",
      "Libya 0.201\n",
      "Liechtenstein 0.167\n",
      "Lithuania 0.214\n",
      "Luxembourg 0.199\n",
      "Macao 0.167\n",
      "Madagascar 0.201\n",
      "Malawi 0.202\n",
      "Malaysia 0.222\n",
      "Maldives 0.167\n",
      "Mali 0.208\n",
      "Malta 0.201\n",
      "Mauritania 0.201\n",
      "Mauritius 0.211\n",
      "Mayotte 0.167\n",
      "Mexico 0.177\n",
      "Moldova 0.167\n",
      "Monaco 0.167\n",
      "Mongolia 0.199\n",
      "Montenegro 0.167\n",
      "Morocco 0.202\n",
      "Mozambique 0.21\n",
      "Myanmar 0.167\n",
      "Namibia 0.199\n",
      "Nepal 0.208\n",
      "Netherlands 0.255\n",
      "Nicaragua 0.167\n",
      "Niger 0.167\n",
      "Nigeria 0.248\n",
      "North Korea 0.159\n",
      "North Macedonia 0.165\n",
      "Norway 0.208\n",
      "Oman 0.204\n",
      "Pakistan 0.214\n",
      "Panama 0.206\n",
      "Paraguay 0.167\n",
      "Peru 0.197\n",
      "Philippines 0.167\n",
      "Poland 0.202\n",
      "Portugal 0.212\n",
      "Qatar 0.167\n",
      "Réunion 0.167\n",
      "Romania 0.201\n",
      "Russia 0.207\n",
      "Rwanda 0.167\n",
      "Saint Helena 0.219\n",
      "Saint Kitts and Nevis 0.211\n",
      "Saint Lucia 0.219\n",
      "Saint Vincent and the Grenadines 0.223\n",
      "San Marino 0.16\n",
      "Sao Tome & Principe 0.221\n",
      "Saudi Arabia 0.155\n",
      "Senegal 0.199\n",
      "Serbia 0.202\n",
      "Seychelles 0.167\n",
      "Sierra Leone 0.198\n",
      "Singapore 0.209\n",
      "Slovakia 0.208\n",
      "Slovenia 0.2\n",
      "Somalia 0.167\n",
      "South Africa 0.218\n",
      "South Korea 0.196\n",
      "South Sudan 0.158\n",
      "Spain 0.235\n",
      "Sri Lanka 0.167\n",
      "State of Palestine 0.178\n",
      "Sudan 0.167\n",
      "Suriname 0.167\n",
      "Sweden 0.197\n",
      "Switzerland 0.22\n",
      "Syria 0.167\n",
      "Taiwan 0.196\n",
      "Tajikistan 0.167\n",
      "Tanzania 0.203\n",
      "Thailand 0.167\n",
      "The Bahamas 0.184\n",
      "Timor-Leste 0.167\n",
      "Togo 0.208\n",
      "Trinidad and Tobago 0.208\n",
      "Tunisia 0.167\n",
      "Turkey 0.179\n",
      "Turkmenistan 0.167\n",
      "Uganda 0.167\n",
      "Ukraine 0.167\n",
      "United Arab Emirates 0.269\n",
      "United Kingdom 0.224\n",
      "United States 0.205\n",
      "Uruguay 0.212\n",
      "Uzbekistan 0.167\n",
      "Venezuela 0.207\n",
      "Vietnam 0.203\n",
      "Western Sahara 0.226\n",
      "Yemen 0.208\n",
      "Zambia 0.167\n",
      "Zimbabwe 0.231\n"
     ]
    }
   ],
   "source": [
    "for country_name in countries['country']:\n",
    "\n",
    "    sample_text = \"Looking for a great vacation destination? Come to the nation of \" + country_name + \"!\"\n",
    "    probability = pipeline.predict_proba([sample_text])[0][1]\n",
    "    print(country_name, round(probability,3))\n",
    "    \n",
    "    "
   ]
  },
  {
   "cell_type": "code",
   "execution_count": 30,
   "metadata": {},
   "outputs": [],
   "source": [
    "results_list = []\n",
    "for country_name in countries['country']:\n",
    "\n",
    "    sample_text = \"Hello, good sirs! I am a student from \" + country_name + \" and am interested in an internship.\"\n",
    "    probability = pipeline.predict_proba([sample_text])[0][1]\n",
    "    \n",
    "    result = {'country':country_name,\n",
    "              'spam_prediction':probability}\n",
    "    \n",
    "    results_list.append(result)\n",
    "    \n",
    "    "
   ]
  },
  {
   "cell_type": "code",
   "execution_count": 31,
   "metadata": {},
   "outputs": [
    {
     "data": {
      "text/html": [
       "<div>\n",
       "<style scoped>\n",
       "    .dataframe tbody tr th:only-of-type {\n",
       "        vertical-align: middle;\n",
       "    }\n",
       "\n",
       "    .dataframe tbody tr th {\n",
       "        vertical-align: top;\n",
       "    }\n",
       "\n",
       "    .dataframe thead th {\n",
       "        text-align: right;\n",
       "    }\n",
       "</style>\n",
       "<table border=\"1\" class=\"dataframe\">\n",
       "  <thead>\n",
       "    <tr style=\"text-align: right;\">\n",
       "      <th></th>\n",
       "      <th>country</th>\n",
       "      <th>spam_prediction</th>\n",
       "    </tr>\n",
       "  </thead>\n",
       "  <tbody>\n",
       "    <tr>\n",
       "      <th>0</th>\n",
       "      <td>Afghanistan</td>\n",
       "      <td>0.212994</td>\n",
       "    </tr>\n",
       "    <tr>\n",
       "      <th>1</th>\n",
       "      <td>Albania</td>\n",
       "      <td>0.211911</td>\n",
       "    </tr>\n",
       "    <tr>\n",
       "      <th>2</th>\n",
       "      <td>Algeria</td>\n",
       "      <td>0.185219</td>\n",
       "    </tr>\n",
       "    <tr>\n",
       "      <th>3</th>\n",
       "      <td>Andorra</td>\n",
       "      <td>0.185219</td>\n",
       "    </tr>\n",
       "    <tr>\n",
       "      <th>4</th>\n",
       "      <td>Angola</td>\n",
       "      <td>0.217462</td>\n",
       "    </tr>\n",
       "    <tr>\n",
       "      <th>...</th>\n",
       "      <td>...</td>\n",
       "      <td>...</td>\n",
       "    </tr>\n",
       "    <tr>\n",
       "      <th>188</th>\n",
       "      <td>Vietnam</td>\n",
       "      <td>0.216887</td>\n",
       "    </tr>\n",
       "    <tr>\n",
       "      <th>189</th>\n",
       "      <td>Western Sahara</td>\n",
       "      <td>0.237726</td>\n",
       "    </tr>\n",
       "    <tr>\n",
       "      <th>190</th>\n",
       "      <td>Yemen</td>\n",
       "      <td>0.221328</td>\n",
       "    </tr>\n",
       "    <tr>\n",
       "      <th>191</th>\n",
       "      <td>Zambia</td>\n",
       "      <td>0.185219</td>\n",
       "    </tr>\n",
       "    <tr>\n",
       "      <th>192</th>\n",
       "      <td>Zimbabwe</td>\n",
       "      <td>0.244030</td>\n",
       "    </tr>\n",
       "  </tbody>\n",
       "</table>\n",
       "<p>193 rows × 2 columns</p>\n",
       "</div>"
      ],
      "text/plain": [
       "            country  spam_prediction\n",
       "0       Afghanistan         0.212994\n",
       "1           Albania         0.211911\n",
       "2           Algeria         0.185219\n",
       "3           Andorra         0.185219\n",
       "4            Angola         0.217462\n",
       "..              ...              ...\n",
       "188         Vietnam         0.216887\n",
       "189  Western Sahara         0.237726\n",
       "190           Yemen         0.221328\n",
       "191          Zambia         0.185219\n",
       "192        Zimbabwe         0.244030\n",
       "\n",
       "[193 rows x 2 columns]"
      ]
     },
     "execution_count": 31,
     "metadata": {},
     "output_type": "execute_result"
    }
   ],
   "source": [
    "country_spam_data = pd.DataFrame(results_list)\n",
    "country_spam_data"
   ]
  },
  {
   "cell_type": "code",
   "execution_count": 32,
   "metadata": {},
   "outputs": [
    {
     "data": {
      "text/html": [
       "<div>\n",
       "<style scoped>\n",
       "    .dataframe tbody tr th:only-of-type {\n",
       "        vertical-align: middle;\n",
       "    }\n",
       "\n",
       "    .dataframe tbody tr th {\n",
       "        vertical-align: top;\n",
       "    }\n",
       "\n",
       "    .dataframe thead th {\n",
       "        text-align: right;\n",
       "    }\n",
       "</style>\n",
       "<table border=\"1\" class=\"dataframe\">\n",
       "  <thead>\n",
       "    <tr style=\"text-align: right;\">\n",
       "      <th></th>\n",
       "      <th>country</th>\n",
       "      <th>spam_prediction</th>\n",
       "    </tr>\n",
       "  </thead>\n",
       "  <tbody>\n",
       "    <tr>\n",
       "      <th>31</th>\n",
       "      <td>Chad</td>\n",
       "      <td>0.136679</td>\n",
       "    </tr>\n",
       "    <tr>\n",
       "      <th>51</th>\n",
       "      <td>El Salvador</td>\n",
       "      <td>0.150503</td>\n",
       "    </tr>\n",
       "    <tr>\n",
       "      <th>30</th>\n",
       "      <td>Central African Republic</td>\n",
       "      <td>0.161749</td>\n",
       "    </tr>\n",
       "    <tr>\n",
       "      <th>40</th>\n",
       "      <td>Croatia</td>\n",
       "      <td>0.165880</td>\n",
       "    </tr>\n",
       "    <tr>\n",
       "      <th>32</th>\n",
       "      <td>Channel Islands</td>\n",
       "      <td>0.166231</td>\n",
       "    </tr>\n",
       "    <tr>\n",
       "      <th>...</th>\n",
       "      <td>...</td>\n",
       "      <td>...</td>\n",
       "    </tr>\n",
       "    <tr>\n",
       "      <th>123</th>\n",
       "      <td>Netherlands</td>\n",
       "      <td>0.266945</td>\n",
       "    </tr>\n",
       "    <tr>\n",
       "      <th>182</th>\n",
       "      <td>United Arab Emirates</td>\n",
       "      <td>0.278544</td>\n",
       "    </tr>\n",
       "    <tr>\n",
       "      <th>76</th>\n",
       "      <td>Hong Kong</td>\n",
       "      <td>0.278699</td>\n",
       "    </tr>\n",
       "    <tr>\n",
       "      <th>84</th>\n",
       "      <td>Isle of Man</td>\n",
       "      <td>0.287800</td>\n",
       "    </tr>\n",
       "    <tr>\n",
       "      <th>15</th>\n",
       "      <td>Belize</td>\n",
       "      <td>0.326810</td>\n",
       "    </tr>\n",
       "  </tbody>\n",
       "</table>\n",
       "<p>193 rows × 2 columns</p>\n",
       "</div>"
      ],
      "text/plain": [
       "                      country  spam_prediction\n",
       "31                       Chad         0.136679\n",
       "51                El Salvador         0.150503\n",
       "30   Central African Republic         0.161749\n",
       "40                    Croatia         0.165880\n",
       "32            Channel Islands         0.166231\n",
       "..                        ...              ...\n",
       "123               Netherlands         0.266945\n",
       "182      United Arab Emirates         0.278544\n",
       "76                  Hong Kong         0.278699\n",
       "84                Isle of Man         0.287800\n",
       "15                     Belize         0.326810\n",
       "\n",
       "[193 rows x 2 columns]"
      ]
     },
     "execution_count": 32,
     "metadata": {},
     "output_type": "execute_result"
    }
   ],
   "source": [
    "country_spam_data.sort_values('spam_prediction')"
   ]
  },
  {
   "cell_type": "code",
   "execution_count": 33,
   "metadata": {},
   "outputs": [
    {
     "data": {
      "text/plain": [
       "0.24402994601464398"
      ]
     },
     "execution_count": 33,
     "metadata": {},
     "output_type": "execute_result"
    }
   ],
   "source": [
    "pipeline.predict_proba([sample_text])[0][1]"
   ]
  },
  {
   "cell_type": "code",
   "execution_count": null,
   "metadata": {},
   "outputs": [],
   "source": []
  },
  {
   "cell_type": "code",
   "execution_count": null,
   "metadata": {},
   "outputs": [],
   "source": []
  }
 ],
 "metadata": {
  "interpreter": {
   "hash": "97b4d432cc475b37b45bc9f941b0f61c6e9f18b4be8b57c80de35b509106efdd"
  },
  "kernelspec": {
   "display_name": "Python 3 (ipykernel)",
   "language": "python",
   "name": "python3"
  },
  "language_info": {
   "codemirror_mode": {
    "name": "ipython",
    "version": 3
   },
   "file_extension": ".py",
   "mimetype": "text/x-python",
   "name": "python",
   "nbconvert_exporter": "python",
   "pygments_lexer": "ipython3",
   "version": "3.9.5"
  }
 },
 "nbformat": 4,
 "nbformat_minor": 2
}
