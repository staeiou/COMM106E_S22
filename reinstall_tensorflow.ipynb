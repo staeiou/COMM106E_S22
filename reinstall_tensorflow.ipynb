{
 "cells": [
  {
   "cell_type": "markdown",
   "id": "53578f04",
   "metadata": {},
   "source": [
    "# Run this first code cell until the `In[*]` turns into `In[1]`\n",
    "## This may take 3-5 minutes total"
   ]
  },
  {
   "cell_type": "code",
   "execution_count": null,
   "id": "2aa9ecc7",
   "metadata": {},
   "outputs": [],
   "source": [
    "!pip uninstall tensorflow -y\n",
    "!pip install tensorflow --no-cache-dir"
   ]
  },
  {
   "cell_type": "markdown",
   "id": "224a2fe5",
   "metadata": {},
   "source": [
    "# Now go to Kernel -> Restart & Run All"
   ]
  },
  {
   "cell_type": "code",
   "execution_count": null,
   "id": "561e8ef3",
   "metadata": {},
   "outputs": [],
   "source": [
    "help('modules')"
   ]
  },
  {
   "cell_type": "code",
   "execution_count": null,
   "id": "7f4fa5c4",
   "metadata": {},
   "outputs": [],
   "source": [
    "import tensorflow"
   ]
  },
  {
   "cell_type": "code",
   "execution_count": null,
   "id": "dc789a9a",
   "metadata": {},
   "outputs": [],
   "source": [
    "tensorflow.__version__"
   ]
  },
  {
   "cell_type": "code",
   "execution_count": null,
   "id": "507cc07b",
   "metadata": {},
   "outputs": [],
   "source": [
    "tens1 = tensorflow.Variable([[1, 0],[1, 0]])\n",
    "tens2 = tensorflow.Variable([[0, 1],[0, 1]])\n",
    "tensorflow.add(tens1,tens2)"
   ]
  },
  {
   "cell_type": "markdown",
   "id": "8c7db751",
   "metadata": {},
   "source": [
    "## After running this, you should see a pink box with some complex messages, which is OK. After that, you should see: \n",
    "\n",
    "`<tf.Tensor: shape=(2, 2), dtype=int32, numpy=\n",
    "array([[1, 1],\n",
    "       [1, 1]], dtype=int32)>`\n",
    "       \n"
   ]
  },
  {
   "cell_type": "markdown",
   "id": "fb560e54",
   "metadata": {},
   "source": [
    "## If you see that output, then all is good and you can run the other notebooks "
   ]
  },
  {
   "cell_type": "code",
   "execution_count": null,
   "id": "986277ce",
   "metadata": {},
   "outputs": [],
   "source": []
  }
 ],
 "metadata": {
  "kernelspec": {
   "display_name": "Python 3 (ipykernel)",
   "language": "python",
   "name": "python3"
  },
  "language_info": {
   "codemirror_mode": {
    "name": "ipython",
    "version": 3
   },
   "file_extension": ".py",
   "mimetype": "text/x-python",
   "name": "python",
   "nbconvert_exporter": "python",
   "pygments_lexer": "ipython3",
   "version": "3.9.5"
  }
 },
 "nbformat": 4,
 "nbformat_minor": 5
}
